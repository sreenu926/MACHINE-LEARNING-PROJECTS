{
  "nbformat": 4,
  "nbformat_minor": 0,
  "metadata": {
    "colab": {
      "name": "Fitbit_GPA_Regression_Comparison.ipynb",
      "provenance": [],
      "collapsed_sections": []
    },
    "kernelspec": {
      "name": "python3",
      "display_name": "Python 3"
    },
    "language_info": {
      "name": "python"
    }
  },
  "cells": [
    {
      "cell_type": "markdown",
      "source": [
        "# **FITBIT vs GPA_REGRESSION COMPARISON**\n",
        "\n",
        "4.MULTIPLE LINEAR REGRESSION ON FITBIT_GPA_DATA"
      ],
      "metadata": {
        "id": "hy_s-P_CCTMZ"
      }
    },
    {
      "cell_type": "code",
      "source": [
        "import numpy as np\n",
        "import matplotlib.pyplot as plt\n",
        "import pandas as pd\n",
        "\n",
        "dataset = pd.read_csv('data.csv')\n",
        "X = dataset.iloc[:, :-1].values\n",
        "y = dataset.iloc[:, -1].values\n",
        "\n",
        "#print(X)\n",
        "\n",
        "from sklearn.compose import ColumnTransformer\n",
        "from sklearn.preprocessing import OneHotEncoder\n",
        "ct = ColumnTransformer(transformers=[('encoder', OneHotEncoder(), [4])], remainder='passthrough')\n",
        "dt = ColumnTransformer(transformers=[('encoder', OneHotEncoder(), [7])], remainder='passthrough')\n",
        "X = np.array(dt.fit_transform(X))\n",
        "\n",
        "from sklearn.model_selection import train_test_split\n",
        "X_train, X_test, y_train, y_test = train_test_split(X, y, test_size = 0.2, random_state = 0)\n",
        "\n",
        "from sklearn.linear_model import LinearRegression\n",
        "regressor = LinearRegression()\n",
        "regressor.fit(X_train, y_train)\n",
        "\n",
        "y_pred = regressor.predict(X_test)\n",
        "np.set_printoptions(precision=2)\n",
        "#print(np.concatenate((y_pred.reshape(len(y_pred),1), y_test.reshape(len(y_test),1)),1))\n",
        "\n",
        "# PERFORMANCE ANALYSIS ( R2 - RMSE - MAE )\n",
        "\n",
        "from sklearn.metrics import r2_score\n",
        "# calculate R2 for performance measurement\n",
        "r2_score_is = format(round(r2_score(y_test, y_pred),3),'.3f')\n",
        "print(f\"\\nr2_score is {r2_score_is}\\n\")\n",
        "\n",
        "linear_regression = LinearRegression()\n",
        "linear_regression.fit(X_train, y_train)\n",
        "predictions = linear_regression.predict(X_test)\n",
        "\n",
        "# Calculation of R2 Score\n",
        "from sklearn.model_selection import cross_val_score\n",
        "print(format(round(cross_val_score(linear_regression, X_train, y_train, cv=5, scoring=\"r2\").mean(),3),'.3f'))\n",
        "print(round(cross_val_score(linear_regression, X_test, y_test, cv=5, scoring=\"r2\").mean(),3))\n",
        "\n",
        "import sklearn, math\n",
        "mse = sklearn.metrics.mean_squared_error(y_test, y_pred)\n",
        "rmse = round(math.sqrt(mse),3)\n",
        "print(f\"\\nroot_mean_square_error is {rmse}\\n\")\n",
        "\n",
        "from sklearn.metrics import mean_absolute_error as mae\n",
        "# calculate MAE\n",
        "error = round(mae(y_test, y_pred),3)\n",
        "print(f\"mean_absolute_error is {error}\\n\")\n"
      ],
      "metadata": {
        "colab": {
          "base_uri": "https://localhost:8080/"
        },
        "id": "uyX32ziWCRHp",
        "outputId": "1d9ebefe-ea2d-4e45-a6d1-698ff3b7b0a0"
      },
      "execution_count": null,
      "outputs": [
        {
          "output_type": "stream",
          "name": "stdout",
          "text": [
            "\n",
            "r2_score is 0.130\n",
            "\n",
            "0.120\n",
            "-0.108\n",
            "\n",
            "root_mean_square_error is 0.786\n",
            "\n",
            "mean_absolute_error is 0.571\n",
            "\n"
          ]
        }
      ]
    },
    {
      "cell_type": "markdown",
      "source": [
        "3.a.SVR_STEPS"
      ],
      "metadata": {
        "id": "kEDHTb20znmE"
      }
    },
    {
      "cell_type": "code",
      "source": [
        "# get the libraries\n",
        "import numpy as np\n",
        "import matplotlib.pyplot as plt\n",
        "from sklearn.metrics import *\n",
        "import pandas as pd\n",
        "import re\n",
        "from math import *\n",
        "\n",
        "# get the dataset\n",
        "dataset = pd.read_csv('data.csv')\n",
        "X = dataset[[\"Steps\"]]\n",
        "y = dataset[[\"GPA\"]]\n",
        "\n",
        "#x = X.tolist()\n",
        "#y = Y.tolist()\n",
        "\n",
        "from sklearn.preprocessing import StandardScaler\n",
        "sc_X = StandardScaler()\n",
        "sc_y = StandardScaler()\n",
        "X = sc_X.fit_transform(X)\n",
        "y = sc_y.fit_transform(y)\n",
        "\n",
        "from sklearn.svm import SVR\n",
        "regressor = SVR(kernel = 'rbf')\n",
        "regressor.fit(X, y)\n",
        "\n",
        "value1 = [[6.5]]\n",
        "y_pred1 = regressor.predict(value1)\n",
        "value2 = y_pred1.reshape(-1,1)\n",
        "y_pred = sc_y.inverse_transform(value2) \n",
        "\n",
        "pred = regressor.predict(X)\n",
        "\n",
        "\n",
        "print(f\"\\nR SQUARED VALUE IS: {format(regressor.score(X, y),'.3f')}\\n\")\n",
        "\n",
        "from sklearn.model_selection import train_test_split\n",
        "X_train, X_test, y_train, y_test = train_test_split(X, y, test_size = 0.2, random_state = 0)\n",
        "\n",
        "# 3.R SQUARED\n",
        "\n",
        "from sklearn.svm import SVR\n",
        "regressor = SVR(kernel = 'rbf')\n",
        "regressor.fit(X_train, y_train)\n",
        "print(f\"\\nR SQUARED VALUE_train IS: {format(regressor.score(X_train, y_train),'.3f')}\\n\")\n",
        "print(f\"\\nR SQUARED VALUE3_test IS: {format(regressor.score(X_test, y_test),'.3f')}\\n\")\n",
        "\n",
        "print(f\"\\nRMSE VALUE IS: {format(sqrt(mean_squared_error(y, pred)),'.3f')}\\n\")\n",
        "\n",
        "print(f\"\\nMEAN ABSOLUTE ERROR VALUE IS: {format(mean_absolute_error(y, pred),'.3f')}\\n\")\n",
        "\n",
        "X_grid = np.arange(min(X), max(X), 0.01) #this step required because data is feature scaled.\n",
        "X_grid = X_grid.reshape((len(X_grid), 1))\n",
        "plt.scatter(X, y, color = 'red')\n",
        "plt.plot(X_grid, regressor.predict(X_grid), color = 'blue')\n",
        "plt.title('SVR')\n",
        "plt.xlabel('Steps')\n",
        "plt.ylabel('GPA')\n",
        "plt.show()"
      ],
      "metadata": {
        "id": "U3ZrTzIkzqWd",
        "colab": {
          "base_uri": "https://localhost:8080/",
          "height": 645
        },
        "outputId": "b7b2618d-67b1-446c-fdc5-51255ff4fc85"
      },
      "execution_count": null,
      "outputs": [
        {
          "output_type": "stream",
          "name": "stderr",
          "text": [
            "/usr/local/lib/python3.7/dist-packages/sklearn/utils/validation.py:993: DataConversionWarning: A column-vector y was passed when a 1d array was expected. Please change the shape of y to (n_samples, ), for example using ravel().\n",
            "  y = column_or_1d(y, warn=True)\n",
            "/usr/local/lib/python3.7/dist-packages/sklearn/utils/validation.py:993: DataConversionWarning: A column-vector y was passed when a 1d array was expected. Please change the shape of y to (n_samples, ), for example using ravel().\n",
            "  y = column_or_1d(y, warn=True)\n"
          ]
        },
        {
          "output_type": "stream",
          "name": "stdout",
          "text": [
            "\n",
            "R SQUARED VALUE IS: 0.188\n",
            "\n",
            "\n",
            "R SQUARED VALUE_train IS: 0.179\n",
            "\n",
            "\n",
            "R SQUARED VALUE3_test IS: 0.121\n",
            "\n",
            "\n",
            "RMSE VALUE IS: 0.901\n",
            "\n",
            "\n",
            "MEAN ABSOLUTE ERROR VALUE IS: 0.665\n",
            "\n"
          ]
        },
        {
          "output_type": "display_data",
          "data": {
            "text/plain": [
              "<Figure size 432x288 with 1 Axes>"
            ],
            "image/png": "[encoded data removed]"
          },
          "metadata": {
            "needs_background": "light"
          }
        }
      ]
    },
    {
      "cell_type": "markdown",
      "source": [
        "3.b.SVR_Peak"
      ],
      "metadata": {
        "id": "NZer3iSkuMr9"
      }
    },
    {
      "cell_type": "code",
      "source": [
        "# get the libraries\n",
        "import numpy as np\n",
        "import matplotlib.pyplot as plt\n",
        "from sklearn.metrics import *\n",
        "import pandas as pd\n",
        "import re\n",
        "from math import *\n",
        "\n",
        "# get the dataset\n",
        "dataset = pd.read_csv('data.csv')\n",
        "X = dataset[[\"Peak\"]]\n",
        "y = dataset[[\"GPA\"]]\n",
        "\n",
        "#x = X.tolist()\n",
        "#y = Y.tolist()\n",
        "\n",
        "from sklearn.preprocessing import StandardScaler\n",
        "sc_X = StandardScaler()\n",
        "sc_y = StandardScaler()\n",
        "X = sc_X.fit_transform(X)\n",
        "y = sc_y.fit_transform(y)\n",
        "\n",
        "from sklearn.svm import SVR\n",
        "regressor = SVR(kernel = 'rbf')\n",
        "regressor.fit(X, y)\n",
        "\n",
        "value1 = [[6.5]]\n",
        "y_pred1 = regressor.predict(value1)\n",
        "value2 = y_pred1.reshape(-1,1)\n",
        "y_pred = sc_y.inverse_transform(value2) \n",
        "\n",
        "pred = regressor.predict(X)\n",
        "\n",
        "\n",
        "print(f\"\\nR SQUARED VALUE IS: {format(regressor.score(X, y),'.4f')}\\n\")\n",
        "\n",
        "from sklearn.model_selection import train_test_split\n",
        "X_train, X_test, y_train, y_test = train_test_split(X, y, test_size = 0.2, random_state = 0)\n",
        "\n",
        "# 3.R SQUARED\n",
        "\n",
        "from sklearn.svm import SVR\n",
        "regressor = SVR(kernel = 'rbf')\n",
        "regressor.fit(X_train, y_train)\n",
        "print(f\"\\nR SQUARED VALUE_train IS: {format(regressor.score(X_train, y_train),'.3f')}\\n\")\n",
        "print(f\"\\nR SQUARED VALUE3_test IS: {format(regressor.score(X_test, y_test),'.3f')}\\n\")\n",
        "\n",
        "print(f\"\\nRMSE VALUE IS: {format(sqrt(mean_squared_error(y, pred)),'.3f')}\\n\")\n",
        "\n",
        "print(f\"\\nMEAN ABSOLUTE ERROR VALUE IS: {format(mean_absolute_error(y, pred),'.3f')}\\n\")\n",
        "\n",
        "X_grid = np.arange(min(X), max(X), 0.01) #this step required because data is feature scaled.\n",
        "X_grid = X_grid.reshape((len(X_grid), 1))\n",
        "plt.scatter(X, y, color = 'red')\n",
        "plt.plot(X_grid, regressor.predict(X_grid), color = 'blue')\n",
        "plt.title('SVR')\n",
        "plt.xlabel('Peak')\n",
        "plt.ylabel('GPA')\n",
        "plt.show()"
      ],
      "metadata": {
        "colab": {
          "base_uri": "https://localhost:8080/",
          "height": 645
        },
        "id": "TK39xV71uPZs",
        "outputId": "720a5420-e1fb-4d4b-a7a4-8ae85b3ec363"
      },
      "execution_count": null,
      "outputs": [
        {
          "output_type": "stream",
          "name": "stderr",
          "text": [
            "/usr/local/lib/python3.7/dist-packages/sklearn/utils/validation.py:993: DataConversionWarning: A column-vector y was passed when a 1d array was expected. Please change the shape of y to (n_samples, ), for example using ravel().\n",
            "  y = column_or_1d(y, warn=True)\n",
            "/usr/local/lib/python3.7/dist-packages/sklearn/utils/validation.py:993: DataConversionWarning: A column-vector y was passed when a 1d array was expected. Please change the shape of y to (n_samples, ), for example using ravel().\n",
            "  y = column_or_1d(y, warn=True)\n"
          ]
        },
        {
          "output_type": "stream",
          "name": "stdout",
          "text": [
            "\n",
            "R SQUARED VALUE IS: -0.0002\n",
            "\n",
            "\n",
            "R SQUARED VALUE_train IS: 0.005\n",
            "\n",
            "\n",
            "R SQUARED VALUE3_test IS: -0.169\n",
            "\n",
            "\n",
            "RMSE VALUE IS: 1.000\n",
            "\n",
            "\n",
            "MEAN ABSOLUTE ERROR VALUE IS: 0.723\n",
            "\n"
          ]
        },
        {
          "output_type": "display_data",
          "data": {
            "text/plain": [
              "<Figure size 432x288 with 1 Axes>"
            ],
            "image/png": "[encoded data removed]"
          },
          "metadata": {
            "needs_background": "light"
          }
        }
      ]
    },
    {
      "cell_type": "markdown",
      "source": [
        "3.c.SVR_Cardio"
      ],
      "metadata": {
        "id": "xd46C6sYxjhU"
      }
    },
    {
      "cell_type": "code",
      "source": [
        "# get the libraries\n",
        "import numpy as np\n",
        "import matplotlib.pyplot as plt\n",
        "from sklearn.metrics import *\n",
        "import pandas as pd\n",
        "import re\n",
        "from math import *\n",
        "\n",
        "# get the dataset\n",
        "dataset = pd.read_csv('data.csv')\n",
        "X = dataset[[\"Cardio\"]]\n",
        "y = dataset[[\"GPA\"]]\n",
        "\n",
        "#x = X.tolist()\n",
        "#y = Y.tolist()\n",
        "\n",
        "from sklearn.preprocessing import StandardScaler\n",
        "sc_X = StandardScaler()\n",
        "sc_y = StandardScaler()\n",
        "X = sc_X.fit_transform(X)\n",
        "y = sc_y.fit_transform(y)\n",
        "\n",
        "from sklearn.svm import SVR\n",
        "regressor = SVR(kernel = 'rbf')\n",
        "regressor.fit(X, y)\n",
        "\n",
        "value1 = [[6.5]]\n",
        "y_pred1 = regressor.predict(value1)\n",
        "value2 = y_pred1.reshape(-1,1)\n",
        "y_pred = sc_y.inverse_transform(value2) \n",
        "\n",
        "pred = regressor.predict(X)\n",
        "\n",
        "print(f\"\\nR SQUARED VALUE IS: {format(regressor.score(X, y),'.3f')}\\n\")\n",
        "\n",
        "from sklearn.model_selection import train_test_split\n",
        "X_train, X_test, y_train, y_test = train_test_split(X, y, test_size = 0.2, random_state = 0)\n",
        "\n",
        "# 3.R SQUARED\n",
        "\n",
        "from sklearn.svm import SVR\n",
        "regressor = SVR(kernel = 'rbf')\n",
        "regressor.fit(X_train, y_train)\n",
        "print(f\"\\nR SQUARED VALUE_train IS: {format(regressor.score(X_train, y_train),'.3f')}\\n\")\n",
        "print(f\"\\nR SQUARED VALUE3_test IS: {format(regressor.score(X_test, y_test),'.3f')}\\n\")\n",
        "\n",
        "print(f\"\\nRMSE VALUE IS: {format(sqrt(mean_squared_error(y, pred)),'.3f')}\\n\")\n",
        "\n",
        "print(f\"\\nMEAN ABSOLUTE ERROR VALUE IS: {format(mean_absolute_error(y, pred),'.3f')}\\n\")\n",
        "\n",
        "X_grid = np.arange(min(X), max(X), 0.01) #this step required because data is feature scaled.\n",
        "X_grid = X_grid.reshape((len(X_grid), 1))\n",
        "plt.scatter(X, y, color = 'red')\n",
        "plt.plot(X_grid, regressor.predict(X_grid), color = 'blue')\n",
        "plt.title('SVR')\n",
        "plt.xlabel('Cardio')\n",
        "plt.ylabel('GPA')\n",
        "plt.show()"
      ],
      "metadata": {
        "colab": {
          "base_uri": "https://localhost:8080/",
          "height": 645
        },
        "id": "fXwDE0caxmEk",
        "outputId": "f63f603a-e6bd-431a-e319-7dc64c6e497e"
      },
      "execution_count": null,
      "outputs": [
        {
          "output_type": "stream",
          "name": "stderr",
          "text": [
            "/usr/local/lib/python3.7/dist-packages/sklearn/utils/validation.py:993: DataConversionWarning: A column-vector y was passed when a 1d array was expected. Please change the shape of y to (n_samples, ), for example using ravel().\n",
            "  y = column_or_1d(y, warn=True)\n",
            "/usr/local/lib/python3.7/dist-packages/sklearn/utils/validation.py:993: DataConversionWarning: A column-vector y was passed when a 1d array was expected. Please change the shape of y to (n_samples, ), for example using ravel().\n",
            "  y = column_or_1d(y, warn=True)\n"
          ]
        },
        {
          "output_type": "stream",
          "name": "stdout",
          "text": [
            "\n",
            "R SQUARED VALUE IS: 0.117\n",
            "\n",
            "\n",
            "R SQUARED VALUE_train IS: 0.140\n",
            "\n",
            "\n",
            "R SQUARED VALUE3_test IS: -0.044\n",
            "\n",
            "\n",
            "RMSE VALUE IS: 0.940\n",
            "\n",
            "\n",
            "MEAN ABSOLUTE ERROR VALUE IS: 0.684\n",
            "\n"
          ]
        },
        {
          "output_type": "display_data",
          "data": {
            "text/plain": [
              "<Figure size 432x288 with 1 Axes>"
            ],
            "image/png": "[encoded data removed]"
          },
          "metadata": {
            "needs_background": "light"
          }
        }
      ]
    },
    {
      "cell_type": "markdown",
      "source": [
        "3.d.SVR_FatBurn"
      ],
      "metadata": {
        "id": "olpI6r1ax_lm"
      }
    },
    {
      "cell_type": "code",
      "source": [
        "# get the libraries\n",
        "import numpy as np\n",
        "import matplotlib.pyplot as plt\n",
        "from sklearn.metrics import *\n",
        "import pandas as pd\n",
        "import re\n",
        "from math import *\n",
        "\n",
        "# get the dataset\n",
        "dataset = pd.read_csv('data.csv')\n",
        "X = dataset[[\"FatBurn\"]]\n",
        "y = dataset[[\"GPA\"]]\n",
        "\n",
        "#x = X.tolist()\n",
        "#y = Y.tolist()\n",
        "\n",
        "from sklearn.preprocessing import StandardScaler\n",
        "sc_X = StandardScaler()\n",
        "sc_y = StandardScaler()\n",
        "X = sc_X.fit_transform(X)\n",
        "y = sc_y.fit_transform(y)\n",
        "\n",
        "from sklearn.svm import SVR\n",
        "regressor = SVR(kernel = 'rbf')\n",
        "regressor.fit(X, y)\n",
        "\n",
        "value1 = [[6.5]]\n",
        "y_pred1 = regressor.predict(value1)\n",
        "value2 = y_pred1.reshape(-1,1)\n",
        "y_pred = sc_y.inverse_transform(value2) \n",
        "\n",
        "pred = regressor.predict(X)\n",
        "\n",
        "\n",
        "print(f\"\\nR SQUARED VALUE IS: {format(regressor.score(X, y),'.3f')}\\n\")\n",
        "\n",
        "from sklearn.model_selection import train_test_split\n",
        "X_train, X_test, y_train, y_test = train_test_split(X, y, test_size = 0.2, random_state = 0)\n",
        "\n",
        "# 3.R SQUARED\n",
        "\n",
        "from sklearn.svm import SVR\n",
        "regressor = SVR(kernel = 'rbf')\n",
        "regressor.fit(X_train, y_train)\n",
        "print(f\"\\nR SQUARED VALUE_train IS: {format(regressor.score(X_train, y_train),'.3f')}\\n\")\n",
        "print(f\"\\nR SQUARED VALUE3_test IS: {format(regressor.score(X_test, y_test),'.3f')}\\n\")\n",
        "\n",
        "print(f\"\\nRMSE VALUE IS: {format(sqrt(mean_squared_error(y, pred)),'.3f')}\\n\")\n",
        "\n",
        "print(f\"\\nMEAN ABSOLUTE ERROR VALUE IS: {format(mean_absolute_error(y, pred),'.3f')}\\n\")\n",
        "\n",
        "X_grid = np.arange(min(X), max(X), 0.01) #this step required because data is feature scaled.\n",
        "X_grid = X_grid.reshape((len(X_grid), 1))\n",
        "plt.scatter(X, y, color = 'red')\n",
        "plt.plot(X_grid, regressor.predict(X_grid), color = 'blue')\n",
        "plt.title('SVR')\n",
        "plt.xlabel('FatBurn')\n",
        "plt.ylabel('GPA')\n",
        "plt.show()"
      ],
      "metadata": {
        "colab": {
          "base_uri": "https://localhost:8080/",
          "height": 645
        },
        "id": "3VHm8q9qyCIK",
        "outputId": "8f6558de-68e2-4dfd-844f-dd6d4e587ed5"
      },
      "execution_count": null,
      "outputs": [
        {
          "output_type": "stream",
          "name": "stderr",
          "text": [
            "/usr/local/lib/python3.7/dist-packages/sklearn/utils/validation.py:993: DataConversionWarning: A column-vector y was passed when a 1d array was expected. Please change the shape of y to (n_samples, ), for example using ravel().\n",
            "  y = column_or_1d(y, warn=True)\n",
            "/usr/local/lib/python3.7/dist-packages/sklearn/utils/validation.py:993: DataConversionWarning: A column-vector y was passed when a 1d array was expected. Please change the shape of y to (n_samples, ), for example using ravel().\n",
            "  y = column_or_1d(y, warn=True)\n"
          ]
        },
        {
          "output_type": "stream",
          "name": "stdout",
          "text": [
            "\n",
            "R SQUARED VALUE IS: 0.012\n",
            "\n",
            "\n",
            "R SQUARED VALUE_train IS: 0.027\n",
            "\n",
            "\n",
            "R SQUARED VALUE3_test IS: -0.106\n",
            "\n",
            "\n",
            "RMSE VALUE IS: 0.994\n",
            "\n",
            "\n",
            "MEAN ABSOLUTE ERROR VALUE IS: 0.736\n",
            "\n"
          ]
        },
        {
          "output_type": "display_data",
          "data": {
            "text/plain": [
              "<Figure size 432x288 with 1 Axes>"
            ],
            "image/png": "[encoded data removed]"
          },
          "metadata": {
            "needs_background": "light"
          }
        }
      ]
    },
    {
      "cell_type": "markdown",
      "source": [
        "3.e.SVR_Mode"
      ],
      "metadata": {
        "id": "H75goz1wybL5"
      }
    },
    {
      "cell_type": "code",
      "source": [
        "# get the libraries\n",
        "import numpy as np\n",
        "import matplotlib.pyplot as plt\n",
        "from sklearn.metrics import *\n",
        "import pandas as pd\n",
        "import re\n",
        "from math import *\n",
        "\n",
        "# get the dataset\n",
        "dataset = pd.read_csv('data.csv')\n",
        "X = dataset[[\"Mode\"]]\n",
        "y = dataset[[\"GPA\"]]\n",
        "\n",
        "#x = X.tolist()\n",
        "#y = Y.tolist()\n",
        "\n",
        "from sklearn.preprocessing import StandardScaler\n",
        "sc_X = StandardScaler()\n",
        "sc_y = StandardScaler()\n",
        "X = sc_X.fit_transform(X)\n",
        "y = sc_y.fit_transform(y)\n",
        "\n",
        "from sklearn.svm import SVR\n",
        "regressor = SVR(kernel = 'rbf')\n",
        "regressor.fit(X, y)\n",
        "\n",
        "value1 = [[6.5]]\n",
        "y_pred1 = regressor.predict(value1)\n",
        "value2 = y_pred1.reshape(-1,1)\n",
        "y_pred = sc_y.inverse_transform(value2) \n",
        "\n",
        "pred = regressor.predict(X)\n",
        "\n",
        "\n",
        "print(f\"\\nR SQUARED VALUE IS: {format(regressor.score(X, y),'.3f')}\\n\")\n",
        "\n",
        "from sklearn.model_selection import train_test_split\n",
        "X_train, X_test, y_train, y_test = train_test_split(X, y, test_size = 0.2, random_state = 0)\n",
        "\n",
        "# 3.R SQUARED\n",
        "\n",
        "from sklearn.svm import SVR\n",
        "regressor = SVR(kernel = 'rbf')\n",
        "regressor.fit(X_train, y_train)\n",
        "print(f\"\\nR SQUARED VALUE_train IS: {format(regressor.score(X_train, y_train),'.3f')}\\n\")\n",
        "print(f\"\\nR SQUARED VALUE3_test IS: {format(regressor.score(X_test, y_test),'.3f')}\\n\")\n",
        "\n",
        "print(f\"\\nRMSE VALUE IS: {format(sqrt(mean_squared_error(y, pred)),'.3f')}\\n\")\n",
        "\n",
        "print(f\"\\nMEAN ABSOLUTE ERROR VALUE IS: {format(mean_absolute_error(y, pred),'.3f')}\\n\")\n",
        "\n",
        "X_grid = np.arange(min(X), max(X), 0.01) #this step required because data is feature scaled.\n",
        "X_grid = X_grid.reshape((len(X_grid), 1))\n",
        "plt.scatter(X, y, color = 'red')\n",
        "plt.plot(X_grid, regressor.predict(X_grid), color = 'blue')\n",
        "plt.title('SVR')\n",
        "plt.xlabel('Mode')\n",
        "plt.ylabel('GPA')\n",
        "plt.show()"
      ],
      "metadata": {
        "colab": {
          "base_uri": "https://localhost:8080/",
          "height": 645
        },
        "id": "EewBPXD-ydkb",
        "outputId": "0ddfe7a6-5fda-4ce2-c6fb-7869f040723a"
      },
      "execution_count": null,
      "outputs": [
        {
          "output_type": "stream",
          "name": "stderr",
          "text": [
            "/usr/local/lib/python3.7/dist-packages/sklearn/utils/validation.py:993: DataConversionWarning: A column-vector y was passed when a 1d array was expected. Please change the shape of y to (n_samples, ), for example using ravel().\n",
            "  y = column_or_1d(y, warn=True)\n",
            "/usr/local/lib/python3.7/dist-packages/sklearn/utils/validation.py:993: DataConversionWarning: A column-vector y was passed when a 1d array was expected. Please change the shape of y to (n_samples, ), for example using ravel().\n",
            "  y = column_or_1d(y, warn=True)\n"
          ]
        },
        {
          "output_type": "stream",
          "name": "stdout",
          "text": [
            "\n",
            "R SQUARED VALUE IS: -0.042\n",
            "\n",
            "\n",
            "R SQUARED VALUE_train IS: -0.046\n",
            "\n",
            "\n",
            "R SQUARED VALUE3_test IS: -0.187\n",
            "\n",
            "\n",
            "RMSE VALUE IS: 1.021\n",
            "\n",
            "\n",
            "MEAN ABSOLUTE ERROR VALUE IS: 0.749\n",
            "\n"
          ]
        },
        {
          "output_type": "display_data",
          "data": {
            "text/plain": [
              "<Figure size 432x288 with 1 Axes>"
            ],
            "image/png": "[encoded data removed]"
          },
          "metadata": {
            "needs_background": "light"
          }
        }
      ]
    },
    {
      "cell_type": "markdown",
      "source": [
        "3.f.SVR_Minutes"
      ],
      "metadata": {
        "id": "A9kmb_PdyqPr"
      }
    },
    {
      "cell_type": "code",
      "source": [
        "# get the libraries\n",
        "import numpy as np\n",
        "import matplotlib.pyplot as plt\n",
        "from sklearn.metrics import *\n",
        "import pandas as pd\n",
        "import re\n",
        "from math import *\n",
        "\n",
        "# get the dataset\n",
        "dataset = pd.read_csv('data.csv')\n",
        "X = dataset[[\"Minutes\"]]\n",
        "y = dataset[[\"GPA\"]]\n",
        "\n",
        "#x = X.tolist()\n",
        "#y = Y.tolist()\n",
        "\n",
        "from sklearn.preprocessing import StandardScaler\n",
        "sc_X = StandardScaler()\n",
        "sc_y = StandardScaler()\n",
        "X = sc_X.fit_transform(X)\n",
        "y = sc_y.fit_transform(y)\n",
        "\n",
        "from sklearn.svm import SVR\n",
        "regressor = SVR(kernel = 'rbf')\n",
        "regressor.fit(X, y)\n",
        "\n",
        "value1 = [[6.5]]\n",
        "y_pred1 = regressor.predict(value1)\n",
        "value2 = y_pred1.reshape(-1,1)\n",
        "y_pred = sc_y.inverse_transform(value2) \n",
        "\n",
        "pred = regressor.predict(X)\n",
        "\n",
        "\n",
        "print(f\"\\nR SQUARED VALUE IS: {format(regressor.score(X, y),'.3f')}\\n\")\n",
        "\n",
        "from sklearn.model_selection import train_test_split\n",
        "X_train, X_test, y_train, y_test = train_test_split(X, y, test_size = 0.2, random_state = 0)\n",
        "\n",
        "# 3.R SQUARED\n",
        "\n",
        "from sklearn.svm import SVR\n",
        "regressor = SVR(kernel = 'rbf')\n",
        "regressor.fit(X_train, y_train)\n",
        "print(f\"\\nR SQUARED VALUE_train IS: {format(regressor.score(X_train, y_train),'.3f')}\\n\")\n",
        "print(f\"\\nR SQUARED VALUE3_test IS: {format(regressor.score(X_test, y_test),'.3f')}\\n\")\n",
        "\n",
        "print(f\"\\nRMSE VALUE IS: {format(sqrt(mean_squared_error(y, pred)),'.3f')}\\n\")\n",
        "\n",
        "print(f\"\\nMEAN ABSOLUTE ERROR VALUE IS: {format(mean_absolute_error(y, pred),'.3f')}\\n\")\n",
        "\n",
        "X_grid = np.arange(min(X), max(X), 0.01) #this step required because data is feature scaled.\n",
        "X_grid = X_grid.reshape((len(X_grid), 1))\n",
        "plt.scatter(X, y, color = 'red')\n",
        "plt.plot(X_grid, regressor.predict(X_grid), color = 'blue')\n",
        "plt.title('SVR')\n",
        "plt.xlabel('Minutes')\n",
        "plt.ylabel('GPA')\n",
        "plt.show()"
      ],
      "metadata": {
        "colab": {
          "base_uri": "https://localhost:8080/",
          "height": 645
        },
        "id": "cXGwiY23yuDO",
        "outputId": "60438742-2032-47c1-ee98-c9d35a773b29"
      },
      "execution_count": null,
      "outputs": [
        {
          "output_type": "stream",
          "name": "stderr",
          "text": [
            "/usr/local/lib/python3.7/dist-packages/sklearn/utils/validation.py:993: DataConversionWarning: A column-vector y was passed when a 1d array was expected. Please change the shape of y to (n_samples, ), for example using ravel().\n",
            "  y = column_or_1d(y, warn=True)\n",
            "/usr/local/lib/python3.7/dist-packages/sklearn/utils/validation.py:993: DataConversionWarning: A column-vector y was passed when a 1d array was expected. Please change the shape of y to (n_samples, ), for example using ravel().\n",
            "  y = column_or_1d(y, warn=True)\n"
          ]
        },
        {
          "output_type": "stream",
          "name": "stdout",
          "text": [
            "\n",
            "R SQUARED VALUE IS: -0.026\n",
            "\n",
            "\n",
            "R SQUARED VALUE_train IS: -0.034\n",
            "\n",
            "\n",
            "R SQUARED VALUE3_test IS: -0.146\n",
            "\n",
            "\n",
            "RMSE VALUE IS: 1.013\n",
            "\n",
            "\n",
            "MEAN ABSOLUTE ERROR VALUE IS: 0.739\n",
            "\n"
          ]
        },
        {
          "output_type": "display_data",
          "data": {
            "text/plain": [
              "<Figure size 432x288 with 1 Axes>"
            ],
            "image/png": "[encoded data removed]"
          },
          "metadata": {
            "needs_background": "light"
          }
        }
      ]
    },
    {
      "cell_type": "markdown",
      "source": [
        "3.g.SVR_Gender"
      ],
      "metadata": {
        "id": "5PH5bpCky8y1"
      }
    },
    {
      "cell_type": "code",
      "source": [
        "# get the libraries\n",
        "import numpy as np\n",
        "import matplotlib.pyplot as plt\n",
        "from sklearn.metrics import *\n",
        "import pandas as pd\n",
        "import re\n",
        "from math import *\n",
        "\n",
        "# get the dataset\n",
        "dataset = pd.read_csv('data.csv')\n",
        "X = dataset[[\"Gender\"]]\n",
        "y = dataset[[\"GPA\"]]\n",
        "\n",
        "#x = X.tolist()\n",
        "#y = Y.tolist()\n",
        "\n",
        "from sklearn.preprocessing import StandardScaler\n",
        "sc_X = StandardScaler()\n",
        "sc_y = StandardScaler()\n",
        "X = sc_X.fit_transform(X)\n",
        "y = sc_y.fit_transform(y)\n",
        "\n",
        "from sklearn.svm import SVR\n",
        "regressor = SVR(kernel = 'rbf')\n",
        "regressor.fit(X, y)\n",
        "\n",
        "value1 = [[6.5]]\n",
        "y_pred1 = regressor.predict(value1)\n",
        "value2 = y_pred1.reshape(-1,1)\n",
        "y_pred = sc_y.inverse_transform(value2) \n",
        "\n",
        "pred = regressor.predict(X)\n",
        "\n",
        "\n",
        "print(f\"\\nR SQUARED VALUE IS: {format(regressor.score(X, y),'.3f')}\\n\")\n",
        "\n",
        "from sklearn.model_selection import train_test_split\n",
        "X_train, X_test, y_train, y_test = train_test_split(X, y, test_size = 0.2, random_state = 0)\n",
        "\n",
        "# 3.R SQUARED\n",
        "\n",
        "from sklearn.svm import SVR\n",
        "regressor = SVR(kernel = 'rbf')\n",
        "regressor.fit(X_train, y_train)\n",
        "print(f\"\\nR SQUARED VALUE_train IS: {format(regressor.score(X_train, y_train),'.3f')}\\n\")\n",
        "print(f\"\\nR SQUARED VALUE3_test IS: {format(regressor.score(X_test, y_test),'.3f')}\\n\")\n",
        "\n",
        "print(f\"\\nRMSE VALUE IS: {format(sqrt(mean_squared_error(y, pred)),'.3f')}\\n\")\n",
        "\n",
        "print(f\"\\nMEAN ABSOLUTE ERROR VALUE IS: {format(mean_absolute_error(y, pred),'.3f')}\\n\")\n",
        "\n",
        "X_grid = np.arange(min(X), max(X), 0.01) #this step required because data is feature scaled.\n",
        "X_grid = X_grid.reshape((len(X_grid), 1))\n",
        "plt.scatter(X, y, color = 'red')\n",
        "plt.plot(X_grid, regressor.predict(X_grid), color = 'blue')\n",
        "plt.title('SVR')\n",
        "plt.xlabel('Gender')\n",
        "plt.ylabel('GPA')\n",
        "plt.show()"
      ],
      "metadata": {
        "colab": {
          "base_uri": "https://localhost:8080/",
          "height": 645
        },
        "id": "m5_OHAAazAIo",
        "outputId": "c3074b55-5467-4912-c6c4-3a0832dee3b7"
      },
      "execution_count": null,
      "outputs": [
        {
          "output_type": "stream",
          "name": "stderr",
          "text": [
            "/usr/local/lib/python3.7/dist-packages/sklearn/utils/validation.py:993: DataConversionWarning: A column-vector y was passed when a 1d array was expected. Please change the shape of y to (n_samples, ), for example using ravel().\n",
            "  y = column_or_1d(y, warn=True)\n",
            "/usr/local/lib/python3.7/dist-packages/sklearn/utils/validation.py:993: DataConversionWarning: A column-vector y was passed when a 1d array was expected. Please change the shape of y to (n_samples, ), for example using ravel().\n",
            "  y = column_or_1d(y, warn=True)\n"
          ]
        },
        {
          "output_type": "stream",
          "name": "stdout",
          "text": [
            "\n",
            "R SQUARED VALUE IS: -0.039\n",
            "\n",
            "\n",
            "R SQUARED VALUE_train IS: -0.009\n",
            "\n",
            "\n",
            "R SQUARED VALUE3_test IS: -0.260\n",
            "\n",
            "\n",
            "RMSE VALUE IS: 1.019\n",
            "\n",
            "\n",
            "MEAN ABSOLUTE ERROR VALUE IS: 0.739\n",
            "\n"
          ]
        },
        {
          "output_type": "display_data",
          "data": {
            "text/plain": [
              "<Figure size 432x288 with 1 Axes>"
            ],
            "image/png": "[encoded data removed]"
          },
          "metadata": {
            "needs_background": "light"
          }
        }
      ]
    },
    {
      "cell_type": "markdown",
      "source": [
        "2.h.SVR_Age"
      ],
      "metadata": {
        "id": "XcKQCBfMzO3J"
      }
    },
    {
      "cell_type": "code",
      "source": [
        "# get the libraries\n",
        "import numpy as np\n",
        "import matplotlib.pyplot as plt\n",
        "from sklearn.metrics import *\n",
        "import pandas as pd\n",
        "import re\n",
        "from math import *\n",
        "\n",
        "# get the dataset\n",
        "dataset = pd.read_csv('data.csv')\n",
        "X = dataset[[\"Age\"]]\n",
        "y = dataset[[\"GPA\"]]\n",
        "\n",
        "#x = X.tolist()\n",
        "#y = Y.tolist()\n",
        "\n",
        "from sklearn.preprocessing import StandardScaler\n",
        "sc_X = StandardScaler()\n",
        "sc_y = StandardScaler()\n",
        "X = sc_X.fit_transform(X)\n",
        "y = sc_y.fit_transform(y)\n",
        "\n",
        "from sklearn.svm import SVR\n",
        "regressor = SVR(kernel = 'rbf')\n",
        "regressor.fit(X, y)\n",
        "\n",
        "value1 = [[6.5]]\n",
        "y_pred1 = regressor.predict(value1)\n",
        "value2 = y_pred1.reshape(-1,1)\n",
        "y_pred = sc_y.inverse_transform(value2) \n",
        "\n",
        "pred = regressor.predict(X)\n",
        "\n",
        "\n",
        "print(f\"\\nR SQUARED VALUE IS: {format(regressor.score(X, y),'.3f')}\\n\")\n",
        "\n",
        "from sklearn.model_selection import train_test_split\n",
        "X_train, X_test, y_train, y_test = train_test_split(X, y, test_size = 0.2, random_state = 0)\n",
        "\n",
        "# 3.R SQUARED\n",
        "\n",
        "from sklearn.svm import SVR\n",
        "regressor = SVR(kernel = 'rbf')\n",
        "regressor.fit(X_train, y_train)\n",
        "print(f\"\\nR SQUARED VALUE_train IS: {format(regressor.score(X_train, y_train),'.3f')}\\n\")\n",
        "print(f\"\\nR SQUARED VALUE3_test IS: {format(regressor.score(X_test, y_test),'.3f')}\\n\")\n",
        "\n",
        "print(f\"\\nRMSE VALUE IS: {format(sqrt(mean_squared_error(y, pred)),'.3f')}\\n\")\n",
        "\n",
        "print(f\"\\nMEAN ABSOLUTE ERROR VALUE IS: {format(mean_absolute_error(y, pred),'.3f')}\\n\")\n",
        "\n",
        "X_grid = np.arange(min(X), max(X), 0.01) #this step required because data is feature scaled.\n",
        "X_grid = X_grid.reshape((len(X_grid), 1))\n",
        "plt.scatter(X, y, color = 'red')\n",
        "plt.plot(X_grid, regressor.predict(X_grid), color = 'blue')\n",
        "plt.title('SVR')\n",
        "plt.xlabel('Age')\n",
        "plt.ylabel('GPA')\n",
        "plt.show()"
      ],
      "metadata": {
        "colab": {
          "base_uri": "https://localhost:8080/",
          "height": 645
        },
        "id": "EjIkJUgxzRen",
        "outputId": "92b69f77-c287-424c-f713-a5ac99a8e9c6"
      },
      "execution_count": null,
      "outputs": [
        {
          "output_type": "stream",
          "name": "stderr",
          "text": [
            "/usr/local/lib/python3.7/dist-packages/sklearn/utils/validation.py:993: DataConversionWarning: A column-vector y was passed when a 1d array was expected. Please change the shape of y to (n_samples, ), for example using ravel().\n",
            "  y = column_or_1d(y, warn=True)\n",
            "/usr/local/lib/python3.7/dist-packages/sklearn/utils/validation.py:993: DataConversionWarning: A column-vector y was passed when a 1d array was expected. Please change the shape of y to (n_samples, ), for example using ravel().\n",
            "  y = column_or_1d(y, warn=True)\n"
          ]
        },
        {
          "output_type": "stream",
          "name": "stdout",
          "text": [
            "\n",
            "R SQUARED VALUE IS: -0.049\n",
            "\n",
            "\n",
            "R SQUARED VALUE_train IS: -0.041\n",
            "\n",
            "\n",
            "R SQUARED VALUE3_test IS: -0.189\n",
            "\n",
            "\n",
            "RMSE VALUE IS: 1.024\n",
            "\n",
            "\n",
            "MEAN ABSOLUTE ERROR VALUE IS: 0.748\n",
            "\n"
          ]
        },
        {
          "output_type": "display_data",
          "data": {
            "text/plain": [
              "<Figure size 432x288 with 1 Axes>"
            ],
            "image/png": "[encoded data removed]"
          },
          "metadata": {
            "needs_background": "light"
          }
        }
      ]
    },
    {
      "cell_type": "markdown",
      "source": [
        "3.i.SVR_Life Score"
      ],
      "metadata": {
        "id": "7LLatqA1zc6v"
      }
    },
    {
      "cell_type": "code",
      "source": [
        "# get the libraries\n",
        "import numpy as np\n",
        "import matplotlib.pyplot as plt\n",
        "from sklearn.metrics import *\n",
        "import pandas as pd\n",
        "import re\n",
        "from math import *\n",
        "\n",
        "# get the dataset\n",
        "dataset = pd.read_csv('data.csv')\n",
        "X = dataset[[\"Life Score\"]]\n",
        "y = dataset[[\"GPA\"]]\n",
        "\n",
        "#x = X.tolist()\n",
        "#y = Y.tolist()\n",
        "\n",
        "from sklearn.preprocessing import StandardScaler\n",
        "sc_X = StandardScaler()\n",
        "sc_y = StandardScaler()\n",
        "X = sc_X.fit_transform(X)\n",
        "y = sc_y.fit_transform(y)\n",
        "\n",
        "from sklearn.svm import SVR\n",
        "regressor = SVR(kernel = 'rbf')\n",
        "regressor.fit(X, y)\n",
        "\n",
        "value1 = [[6.5]]\n",
        "y_pred1 = regressor.predict(value1)\n",
        "value2 = y_pred1.reshape(-1,1)\n",
        "y_pred = sc_y.inverse_transform(value2) \n",
        "\n",
        "pred = regressor.predict(X)\n",
        "\n",
        "\n",
        "print(f\"\\nR SQUARED VALUE IS: {format(regressor.score(X, y),'.3f')}\\n\")\n",
        "\n",
        "from sklearn.model_selection import train_test_split\n",
        "X_train, X_test, y_train, y_test = train_test_split(X, y, test_size = 0.2, random_state = 0)\n",
        "\n",
        "# 3.R SQUARED\n",
        "\n",
        "from sklearn.svm import SVR\n",
        "regressor = SVR(kernel = 'rbf')\n",
        "regressor.fit(X_train, y_train)\n",
        "print(f\"\\nR SQUARED VALUE_train IS: {format(regressor.score(X_train, y_train),'.3f')}\\n\")\n",
        "print(f\"\\nR SQUARED VALUE3_test IS: {format(regressor.score(X_test, y_test),'.3f')}\\n\")\n",
        "\n",
        "print(f\"\\nRMSE VALUE IS: {format(sqrt(mean_squared_error(y, pred)),'.3f')}\\n\")\n",
        "\n",
        "print(f\"\\nMEAN ABSOLUTE ERROR VALUE IS: {format(mean_absolute_error(y, pred),'.3f')}\\n\")\n",
        "\n",
        "X_grid = np.arange(min(X), max(X), 0.01) #this step required because data is feature scaled.\n",
        "X_grid = X_grid.reshape((len(X_grid), 1))\n",
        "plt.scatter(X, y, color = 'red')\n",
        "plt.plot(X_grid, regressor.predict(X_grid), color = 'blue')\n",
        "plt.title('SVR')\n",
        "plt.xlabel('Life Score')\n",
        "plt.ylabel('GPA')\n",
        "plt.show()"
      ],
      "metadata": {
        "colab": {
          "base_uri": "https://localhost:8080/",
          "height": 645
        },
        "id": "dmFJirXdzhN9",
        "outputId": "6d00d4f3-8273-40b5-ea00-938e8f53bbfa"
      },
      "execution_count": null,
      "outputs": [
        {
          "output_type": "stream",
          "name": "stderr",
          "text": [
            "/usr/local/lib/python3.7/dist-packages/sklearn/utils/validation.py:993: DataConversionWarning: A column-vector y was passed when a 1d array was expected. Please change the shape of y to (n_samples, ), for example using ravel().\n",
            "  y = column_or_1d(y, warn=True)\n",
            "/usr/local/lib/python3.7/dist-packages/sklearn/utils/validation.py:993: DataConversionWarning: A column-vector y was passed when a 1d array was expected. Please change the shape of y to (n_samples, ), for example using ravel().\n",
            "  y = column_or_1d(y, warn=True)\n"
          ]
        },
        {
          "output_type": "stream",
          "name": "stdout",
          "text": [
            "\n",
            "R SQUARED VALUE IS: -0.010\n",
            "\n",
            "\n",
            "R SQUARED VALUE_train IS: 0.021\n",
            "\n",
            "\n",
            "R SQUARED VALUE3_test IS: -0.126\n",
            "\n",
            "\n",
            "RMSE VALUE IS: 1.005\n",
            "\n",
            "\n",
            "MEAN ABSOLUTE ERROR VALUE IS: 0.744\n",
            "\n"
          ]
        },
        {
          "output_type": "display_data",
          "data": {
            "text/plain": [
              "<Figure size 432x288 with 1 Axes>"
            ],
            "image/png": "[encoded data removed]"
          },
          "metadata": {
            "needs_background": "light"
          }
        }
      ]
    },
    {
      "cell_type": "markdown",
      "source": [
        "2.a.POLYNOMIAL REGRESSION_Steps"
      ],
      "metadata": {
        "id": "b8D4f0kiDMu9"
      }
    },
    {
      "cell_type": "code",
      "source": [
        "# 1.SCATTER PLOT OF INPUT AND OUTPUT VARIABLES\n",
        "import numpy as np\n",
        "import matplotlib.pyplot as plt\n",
        "from sklearn.metrics import *\n",
        "import pandas as pd\n",
        "import re\n",
        "from math import *\n",
        "\n",
        "dataset = pd.read_csv('data.csv')\n",
        "X = dataset[\"Steps\"]\n",
        "Y = dataset[\"GPA\"]\n",
        "\n",
        "x = X.tolist()\n",
        "y = Y.tolist()\n",
        "\n",
        "\n",
        "# 2.DRAW THE POLYNOMIAL REGRESSION LINE\n",
        "\n",
        "mymodel = numpy.poly1d(numpy.polyfit(x, y, 4))\n",
        "\n",
        "myline = numpy.linspace(1, 21500)\n",
        "\n",
        "plt.scatter(x, y, color=\"red\")\n",
        "plt.plot(myline, mymodel(myline))\n",
        "plt.show()\n",
        "\n",
        "# 3.R SQUARED\n",
        "\n",
        "print(f\"\\nR SQUARED VALUE IS: {r2_score(y, mymodel(x))}\")\n",
        "\n",
        "print(f\"\\nRMSE VALUE IS: {sqrt(mean_squared_error(y, mymodel(x)))}\")\n",
        "\n",
        "print(f\"\\nMEAN ABSOLUTE ERROR VALUE IS: {mean_absolute_error(y, mymodel(x))}\")\n",
        "\n",
        "# 4.PREDICT FUTURE VALUES\n",
        "\n",
        "GPA = mymodel(17)\n",
        "\n",
        "print(f\"\\nPREDICTED FUTURE VALUE OF GPA IS: {GPA}\")"
      ],
      "metadata": {
        "colab": {
          "base_uri": "https://localhost:8080/",
          "height": 404
        },
        "id": "JKiANGbnL4Bx",
        "outputId": "8408dd1c-b38d-4ae6-a3b8-dae8d2082b84"
      },
      "execution_count": null,
      "outputs": [
        {
          "output_type": "display_data",
          "data": {
            "text/plain": [
              "<Figure size 432x288 with 1 Axes>"
            ],
            "image/png": "[encoded data removed]"
          },
          "metadata": {
            "needs_background": "light"
          }
        },
        {
          "output_type": "stream",
          "name": "stdout",
          "text": [
            "\n",
            "R SQUARED VALUE IS: 0.21714011529960853\n",
            "\n",
            "RMSE VALUE IS: 0.6698732310754479\n",
            "\n",
            "MEAN ABSOLUTE ERROR VALUE IS: 0.5162930519195772\n",
            "\n",
            "PREDICTED FUTURE VALUE OF GPA IS: 2.469129074557755\n"
          ]
        }
      ]
    },
    {
      "cell_type": "markdown",
      "source": [
        "2.b.POLYNOMIAL REGRESSION_PEAK"
      ],
      "metadata": {
        "id": "Ud9lS1TNiFFS"
      }
    },
    {
      "cell_type": "code",
      "source": [
        "# 1.SCATTER PLOT OF INPUT AND OUTPUT VARIABLES\n",
        "import numpy as np\n",
        "import matplotlib.pyplot as plt\n",
        "from sklearn.metrics import *\n",
        "import pandas as pd\n",
        "import re\n",
        "from math import *\n",
        "\n",
        "dataset = pd.read_csv('data.csv')\n",
        "X = dataset[\"Peak\"]\n",
        "Y = dataset[\"GPA\"]\n",
        "\n",
        "x = X.tolist()\n",
        "y = Y.tolist()\n",
        "\n",
        "\n",
        "# 2.DRAW THE POLYNOMIAL REGRESSION LINE\n",
        "\n",
        "mymodel = np.poly1d(np.polyfit(x, y, 4))\n",
        "\n",
        "myline = np.linspace(1, 215)\n",
        "\n",
        "plt.scatter(x, y, color=\"red\")\n",
        "plt.plot(myline, mymodel(myline))\n",
        "plt.show()\n",
        "\n",
        "# 3.R SQUARED\n",
        "\n",
        "print(f\"\\nR SQUARED VALUE IS: {r2_score(y, mymodel(x))}\")\n",
        "\n",
        "print(f\"\\nRMSE VALUE IS: {sqrt(mean_squared_error(y, mymodel(x)))}\")\n",
        "\n",
        "print(f\"\\nMEAN ABSOLUTE ERROR VALUE IS: {mean_absolute_error(y, mymodel(x))}\")\n",
        "\n",
        "# 4.PREDICT FUTURE VALUES\n",
        "\n",
        "GPA = mymodel(17)\n",
        "\n",
        "print(f\"\\nPREDICTED FUTURE VALUE OF GPA IS: {GPA}\")"
      ],
      "metadata": {
        "colab": {
          "base_uri": "https://localhost:8080/",
          "height": 404
        },
        "id": "5tiLjBxRiopO",
        "outputId": "0b99ce88-1cfd-45f9-fb6a-44b35545d2ab"
      },
      "execution_count": null,
      "outputs": [
        {
          "output_type": "display_data",
          "data": {
            "text/plain": [
              "<Figure size 432x288 with 1 Axes>"
            ],
            "image/png": "[encoded data removed]"
          },
          "metadata": {
            "needs_background": "light"
          }
        },
        {
          "output_type": "stream",
          "name": "stdout",
          "text": [
            "\n",
            "R SQUARED VALUE IS: 0.014859651031338683\n",
            "\n",
            "RMSE VALUE IS: 0.7514492528919039\n",
            "\n",
            "MEAN ABSOLUTE ERROR VALUE IS: 0.5856303716196837\n",
            "\n",
            "PREDICTED FUTURE VALUE OF GPA IS: 3.588779134252841\n"
          ]
        }
      ]
    },
    {
      "cell_type": "markdown",
      "source": [
        "2.c.Polynomial Regression_CARDIO"
      ],
      "metadata": {
        "id": "bMxaaXOmqFoP"
      }
    },
    {
      "cell_type": "code",
      "source": [
        "# 1.SCATTER PLOT OF INPUT AND OUTPUT VARIABLES\n",
        "import numpy as np\n",
        "import matplotlib.pyplot as plt\n",
        "from sklearn.metrics import *\n",
        "import pandas as pd\n",
        "import re\n",
        "from math import *\n",
        "\n",
        "dataset = pd.read_csv('data.csv')\n",
        "X = dataset[\"Cardio\"]\n",
        "Y = dataset[\"GPA\"]\n",
        "\n",
        "x = X.tolist()\n",
        "y = Y.tolist()\n",
        "\n",
        "\n",
        "# 2.DRAW THE POLYNOMIAL REGRESSION LINE\n",
        "\n",
        "mymodel = np.poly1d(np.polyfit(x, y, 4))\n",
        "\n",
        "myline = np.linspace(1, 190)\n",
        "\n",
        "plt.scatter(x, y, color=\"red\")\n",
        "plt.plot(myline, mymodel(myline))\n",
        "plt.show()\n",
        "\n",
        "# 3.R SQUARED\n",
        "\n",
        "print(f\"\\nR SQUARED VALUE IS: {r2_score(y, mymodel(x))}\")\n",
        "\n",
        "print(f\"\\nRMSE VALUE IS: {sqrt(mean_squared_error(y, mymodel(x)))}\")\n",
        "\n",
        "print(f\"\\nMEAN ABSOLUTE ERROR VALUE IS: {mean_absolute_error(y, mymodel(x))}\")\n",
        "\n",
        "# 4.PREDICT FUTURE VALUES\n",
        "\n",
        "GPA = mymodel(17)\n",
        "\n",
        "print(f\"\\nPREDICTED FUTURE VALUE OF GPA IS: {GPA}\")"
      ],
      "metadata": {
        "colab": {
          "base_uri": "https://localhost:8080/",
          "height": 404
        },
        "id": "B8e21DbCqJQ-",
        "outputId": "1557401b-f9c7-41cc-e7b2-74bbad1c23ba"
      },
      "execution_count": null,
      "outputs": [
        {
          "output_type": "display_data",
          "data": {
            "text/plain": [
              "<Figure size 432x288 with 1 Axes>"
            ],
            "image/png": "[encoded data removed]"
          },
          "metadata": {
            "needs_background": "light"
          }
        },
        {
          "output_type": "stream",
          "name": "stdout",
          "text": [
            "\n",
            "R SQUARED VALUE IS: 0.10369964468357729\n",
            "\n",
            "RMSE VALUE IS: 0.7167659859584702\n",
            "\n",
            "MEAN ABSOLUTE ERROR VALUE IS: 0.5546397048875489\n",
            "\n",
            "PREDICTED FUTURE VALUE OF GPA IS: 3.6281967744176224\n"
          ]
        }
      ]
    },
    {
      "cell_type": "markdown",
      "source": [
        "2.d.Polynomial Regression_FatBurn"
      ],
      "metadata": {
        "id": "pQRhPMmdq9gz"
      }
    },
    {
      "cell_type": "code",
      "source": [
        "# 1.SCATTER PLOT OF INPUT AND OUTPUT VARIABLES\n",
        "import numpy as np\n",
        "import matplotlib.pyplot as plt\n",
        "from sklearn.metrics import *\n",
        "import pandas as pd\n",
        "import re\n",
        "from math import *\n",
        "\n",
        "dataset = pd.read_csv('data.csv')\n",
        "X = dataset[\"FatBurn\"]\n",
        "Y = dataset[\"GPA\"]\n",
        "\n",
        "x = X.tolist()\n",
        "y = Y.tolist()\n",
        "\n",
        "\n",
        "# 2.DRAW THE POLYNOMIAL REGRESSION LINE\n",
        "\n",
        "mymodel = np.poly1d(np.polyfit(x, y, 4))\n",
        "\n",
        "myline = np.linspace(1, 715)\n",
        "\n",
        "plt.scatter(x, y, color=\"red\")\n",
        "plt.plot(myline, mymodel(myline))\n",
        "plt.show()\n",
        "\n",
        "# 3.R SQUARED\n",
        "\n",
        "print(f\"\\nR SQUARED VALUE IS: {r2_score(y, mymodel(x))}\")\n",
        "\n",
        "print(f\"\\nRMSE VALUE IS: {sqrt(mean_squared_error(y, mymodel(x)))}\")\n",
        "\n",
        "print(f\"\\nMEAN ABSOLUTE ERROR VALUE IS: {mean_absolute_error(y, mymodel(x))}\")\n",
        "\n",
        "# 4.PREDICT FUTURE VALUES\n",
        "\n",
        "GPA = mymodel(17)\n",
        "\n",
        "print(f\"\\nPREDICTED FUTURE VALUE OF GPA IS: {GPA}\")"
      ],
      "metadata": {
        "colab": {
          "base_uri": "https://localhost:8080/",
          "height": 404
        },
        "id": "OTB9VBrxrBq7",
        "outputId": "ebce454e-343b-4274-b9b2-3825c280ff1a"
      },
      "execution_count": null,
      "outputs": [
        {
          "output_type": "display_data",
          "data": {
            "text/plain": [
              "<Figure size 432x288 with 1 Axes>"
            ],
            "image/png": "[encoded data removed]"
          },
          "metadata": {
            "needs_background": "light"
          }
        },
        {
          "output_type": "stream",
          "name": "stdout",
          "text": [
            "\n",
            "R SQUARED VALUE IS: 0.052825204363093015\n",
            "\n",
            "RMSE VALUE IS: 0.7368272346900535\n",
            "\n",
            "MEAN ABSOLUTE ERROR VALUE IS: 0.5718128739458773\n",
            "\n",
            "PREDICTED FUTURE VALUE OF GPA IS: 2.5985777947831763\n"
          ]
        }
      ]
    },
    {
      "cell_type": "markdown",
      "source": [
        "2.e.Polynomial_MODE"
      ],
      "metadata": {
        "id": "ryodWRhZrplg"
      }
    },
    {
      "cell_type": "code",
      "source": [
        "# 1.SCATTER PLOT OF INPUT AND OUTPUT VARIABLES\n",
        "import numpy as np\n",
        "import matplotlib.pyplot as plt\n",
        "from sklearn.metrics import *\n",
        "import pandas as pd\n",
        "import re\n",
        "from math import *\n",
        "\n",
        "dataset = pd.read_csv('data.csv')\n",
        "X = dataset[\"Mode\"]\n",
        "Y = dataset[\"GPA\"]\n",
        "\n",
        "x = X.tolist()\n",
        "y = Y.tolist()\n",
        "\n",
        "\n",
        "# 2.DRAW THE POLYNOMIAL REGRESSION LINE\n",
        "\n",
        "mymodel = np.poly1d(np.polyfit(x, y, 1))\n",
        "\n",
        "myline = np.linspace(0, 2)\n",
        "\n",
        "plt.scatter(x, y, color=\"red\")\n",
        "plt.plot(myline, mymodel(myline))\n",
        "plt.show()\n",
        "\n",
        "# 3.R SQUARED\n",
        "\n",
        "print(f\"\\nR SQUARED VALUE IS: {r2_score(y, mymodel(x))}\")\n",
        "\n",
        "print(f\"\\nRMSE VALUE IS: {sqrt(mean_squared_error(y, mymodel(x)))}\")\n",
        "\n",
        "print(f\"\\nMEAN ABSOLUTE ERROR VALUE IS: {mean_absolute_error(y, mymodel(x))}\")\n",
        "\n",
        "# 4.PREDICT FUTURE VALUES\n",
        "\n",
        "GPA = mymodel(17)\n",
        "\n",
        "print(f\"\\nPREDICTED FUTURE VALUE OF GPA IS: {GPA}\")"
      ],
      "metadata": {
        "colab": {
          "base_uri": "https://localhost:8080/",
          "height": 404
        },
        "id": "gI4A1zV5ry9p",
        "outputId": "5a95c978-436e-436f-be79-2f8cf88f1ea7"
      },
      "execution_count": null,
      "outputs": [
        {
          "output_type": "display_data",
          "data": {
            "text/plain": [
              "<Figure size 432x288 with 1 Axes>"
            ],
            "image/png": "[encoded data removed]"
          },
          "metadata": {
            "needs_background": "light"
          }
        },
        {
          "output_type": "stream",
          "name": "stdout",
          "text": [
            "\n",
            "R SQUARED VALUE IS: 0.013108691085339297\n",
            "\n",
            "RMSE VALUE IS: 0.7521167584997537\n",
            "\n",
            "MEAN ABSOLUTE ERROR VALUE IS: 0.5877621668046136\n",
            "\n",
            "PREDICTED FUTURE VALUE OF GPA IS: 7.166297786720385\n"
          ]
        }
      ]
    },
    {
      "cell_type": "markdown",
      "source": [
        "2.f.Polynomial_Minutes"
      ],
      "metadata": {
        "id": "78z0WV_XsPtw"
      }
    },
    {
      "cell_type": "code",
      "source": [
        "# 1.SCATTER PLOT OF INPUT AND OUTPUT VARIABLES\n",
        "import numpy as np\n",
        "import matplotlib.pyplot as plt\n",
        "from sklearn.metrics import *\n",
        "import pandas as pd\n",
        "import re\n",
        "from math import *\n",
        "\n",
        "dataset = pd.read_csv('data.csv')\n",
        "X = dataset[\"Minutes\"]\n",
        "Y = dataset[\"GPA\"]\n",
        "\n",
        "x = X.tolist()\n",
        "y = Y.tolist()\n",
        "\n",
        "\n",
        "# 2.DRAW THE POLYNOMIAL REGRESSION LINE\n",
        "\n",
        "mymodel = np.poly1d(np.polyfit(x, y, 4))\n",
        "\n",
        "myline = np.linspace(4, 21)\n",
        "\n",
        "plt.scatter(x, y, color=\"red\")\n",
        "plt.plot(myline, mymodel(myline))\n",
        "plt.show()\n",
        "\n",
        "# 3.R SQUARED\n",
        "\n",
        "print(f\"\\nR SQUARED VALUE IS: {r2_score(y, mymodel(x))}\")\n",
        "\n",
        "print(f\"\\nRMSE VALUE IS: {sqrt(mean_squared_error(y, mymodel(x)))}\")\n",
        "\n",
        "print(f\"\\nMEAN ABSOLUTE ERROR VALUE IS: {mean_absolute_error(y, mymodel(x))}\")\n",
        "\n",
        "# 4.PREDICT FUTURE VALUES\n",
        "\n",
        "GPA = mymodel(17)\n",
        "\n",
        "print(f\"\\nPREDICTED FUTURE VALUE OF GPA IS: {GPA}\")"
      ],
      "metadata": {
        "colab": {
          "base_uri": "https://localhost:8080/",
          "height": 404
        },
        "id": "HCHMv4OcsUBd",
        "outputId": "66ddf542-2dbb-4181-c29d-6ea04f4c4338"
      },
      "execution_count": null,
      "outputs": [
        {
          "output_type": "display_data",
          "data": {
            "text/plain": [
              "<Figure size 432x288 with 1 Axes>"
            ],
            "image/png": "[encoded data removed]"
          },
          "metadata": {
            "needs_background": "light"
          }
        },
        {
          "output_type": "stream",
          "name": "stdout",
          "text": [
            "\n",
            "R SQUARED VALUE IS: 0.030542536430779643\n",
            "\n",
            "RMSE VALUE IS: 0.7454439299729261\n",
            "\n",
            "MEAN ABSOLUTE ERROR VALUE IS: 0.5834722044642057\n",
            "\n",
            "PREDICTED FUTURE VALUE OF GPA IS: 2.934900617767159\n"
          ]
        }
      ]
    },
    {
      "cell_type": "markdown",
      "source": [
        "2.g.Polynomial_Gender"
      ],
      "metadata": {
        "id": "wsFkRlFtspja"
      }
    },
    {
      "cell_type": "code",
      "source": [
        "# 1.SCATTER PLOT OF INPUT AND OUTPUT VARIABLES\n",
        "import numpy as np\n",
        "import matplotlib.pyplot as plt\n",
        "from sklearn.metrics import *\n",
        "import pandas as pd\n",
        "import re\n",
        "from math import *\n",
        "\n",
        "dataset = pd.read_csv('data.csv')\n",
        "X = dataset[\"Gender\"]\n",
        "Y = dataset[\"GPA\"]\n",
        "\n",
        "x = X.tolist()\n",
        "y = Y.tolist()\n",
        "\n",
        "\n",
        "# 2.DRAW THE POLYNOMIAL REGRESSION LINE\n",
        "\n",
        "mymodel = np.poly1d(np.polyfit(x, y, 1))\n",
        "\n",
        "myline = np.linspace(0, 2)\n",
        "\n",
        "plt.scatter(x, y, color=\"red\")\n",
        "plt.plot(myline, mymodel(myline))\n",
        "plt.show()\n",
        "\n",
        "# 3.R SQUARED\n",
        "\n",
        "print(f\"\\nR SQUARED VALUE IS: {r2_score(y, mymodel(x))}\")\n",
        "\n",
        "print(f\"\\nRMSE VALUE IS: {sqrt(mean_squared_error(y, mymodel(x)))}\")\n",
        "\n",
        "print(f\"\\nMEAN ABSOLUTE ERROR VALUE IS: {mean_absolute_error(y, mymodel(x))}\")\n",
        "\n",
        "# 4.PREDICT FUTURE VALUES\n",
        "\n",
        "GPA = mymodel(17)\n",
        "\n",
        "print(f\"\\nPREDICTED FUTURE VALUE OF GPA IS: {GPA}\")"
      ],
      "metadata": {
        "colab": {
          "base_uri": "https://localhost:8080/",
          "height": 404
        },
        "id": "ZaPx8Lf6ssjQ",
        "outputId": "aebcbec8-e8cc-4dee-c303-caf2acb5926c"
      },
      "execution_count": null,
      "outputs": [
        {
          "output_type": "display_data",
          "data": {
            "text/plain": [
              "<Figure size 432x288 with 1 Axes>"
            ],
            "image/png": "[encoded data removed]"
          },
          "metadata": {
            "needs_background": "light"
          }
        },
        {
          "output_type": "stream",
          "name": "stdout",
          "text": [
            "\n",
            "R SQUARED VALUE IS: 0.021138589737755065\n",
            "\n",
            "RMSE VALUE IS: 0.7490506880260638\n",
            "\n",
            "MEAN ABSOLUTE ERROR VALUE IS: 0.5781536305447192\n",
            "\n",
            "PREDICTED FUTURE VALUE OF GPA IS: 6.8619822637622665\n"
          ]
        }
      ]
    },
    {
      "cell_type": "markdown",
      "source": [
        "2.h.Age"
      ],
      "metadata": {
        "id": "nj3ChCiTs4dd"
      }
    },
    {
      "cell_type": "code",
      "source": [
        "# 1.SCATTER PLOT OF INPUT AND OUTPUT VARIABLES\n",
        "import numpy as np\n",
        "import matplotlib.pyplot as plt\n",
        "from sklearn.metrics import *\n",
        "import pandas as pd\n",
        "import re\n",
        "from math import *\n",
        "\n",
        "dataset = pd.read_csv('data.csv')\n",
        "X = dataset[\"Age\"]\n",
        "Y = dataset[\"GPA\"]\n",
        "\n",
        "x = X.tolist()\n",
        "y = Y.tolist()\n",
        "\n",
        "\n",
        "# 2.DRAW THE POLYNOMIAL REGRESSION LINE\n",
        "\n",
        "mymodel = np.poly1d(np.polyfit(x, y, 4))\n",
        "\n",
        "myline = np.linspace(15, 40)\n",
        "\n",
        "plt.scatter(x, y, color=\"red\")\n",
        "plt.plot(myline, mymodel(myline))\n",
        "plt.show()\n",
        "\n",
        "# 3.R SQUARED\n",
        "\n",
        "print(f\"\\nR SQUARED VALUE IS: {r2_score(y, mymodel(x))}\")\n",
        "\n",
        "print(f\"\\nRMSE VALUE IS: {sqrt(mean_squared_error(y, mymodel(x)))}\")\n",
        "\n",
        "print(f\"\\nMEAN ABSOLUTE ERROR VALUE IS: {mean_absolute_error(y, mymodel(x))}\")\n",
        "\n",
        "# 4.PREDICT FUTURE VALUES\n",
        "\n",
        "GPA = mymodel(17)\n",
        "\n",
        "print(f\"\\nPREDICTED FUTURE VALUE OF GPA IS: {GPA}\")"
      ],
      "metadata": {
        "colab": {
          "base_uri": "https://localhost:8080/",
          "height": 404
        },
        "id": "XZQLFKIus6pd",
        "outputId": "5976321a-eb6b-4d10-c365-398a10428b0a"
      },
      "execution_count": null,
      "outputs": [
        {
          "output_type": "display_data",
          "data": {
            "text/plain": [
              "<Figure size 432x288 with 1 Axes>"
            ],
            "image/png": "[encoded data removed]"
          },
          "metadata": {
            "needs_background": "light"
          }
        },
        {
          "output_type": "stream",
          "name": "stdout",
          "text": [
            "\n",
            "R SQUARED VALUE IS: 0.0017512985466754394\n",
            "\n",
            "RMSE VALUE IS: 0.7564321524416836\n",
            "\n",
            "MEAN ABSOLUTE ERROR VALUE IS: 0.589231624689806\n",
            "\n",
            "PREDICTED FUTURE VALUE OF GPA IS: 3.229533691970305\n"
          ]
        }
      ]
    },
    {
      "cell_type": "markdown",
      "source": [
        "2.i.Polynomial_LIFESCORE"
      ],
      "metadata": {
        "id": "TlHsu26mtVbd"
      }
    },
    {
      "cell_type": "code",
      "source": [
        "# 1.SCATTER PLOT OF INPUT AND OUTPUT VARIABLES\n",
        "import numpy as np\n",
        "import matplotlib.pyplot as plt\n",
        "from sklearn.metrics import *\n",
        "import pandas as pd\n",
        "import re\n",
        "from math import *\n",
        "\n",
        "dataset = pd.read_csv('data.csv')\n",
        "X = dataset[\"Life Score\"]\n",
        "Y = dataset[\"GPA\"]\n",
        "\n",
        "x = X.tolist()\n",
        "y = Y.tolist()\n",
        "\n",
        "\n",
        "# 2.DRAW THE POLYNOMIAL REGRESSION LINE\n",
        "\n",
        "mymodel = np.poly1d(np.polyfit(x, y, 4))\n",
        "\n",
        "myline = np.linspace(30, 135)\n",
        "\n",
        "plt.scatter(x, y, color=\"red\")\n",
        "plt.plot(myline, mymodel(myline))\n",
        "plt.show()\n",
        "\n",
        "# 3.R SQUARED\n",
        "\n",
        "print(f\"\\nR SQUARED VALUE IS: {r2_score(y, mymodel(x))}\")\n",
        "\n",
        "print(f\"\\nRMSE VALUE IS: {sqrt(mean_squared_error(y, mymodel(x)))}\")\n",
        "\n",
        "print(f\"\\nMEAN ABSOLUTE ERROR VALUE IS: {mean_absolute_error(y, mymodel(x))}\")\n",
        "\n",
        "# 4.PREDICT FUTURE VALUES\n",
        "\n",
        "GPA = mymodel(17)\n",
        "\n",
        "print(f\"\\nPREDICTED FUTURE VALUE OF GPA IS: {GPA}\")"
      ],
      "metadata": {
        "colab": {
          "base_uri": "https://localhost:8080/",
          "height": 404
        },
        "id": "s2HWrBrMtYMv",
        "outputId": "12f40af5-f43d-487c-cb65-921e51d343b8"
      },
      "execution_count": null,
      "outputs": [
        {
          "output_type": "display_data",
          "data": {
            "text/plain": [
              "<Figure size 432x288 with 1 Axes>"
            ],
            "image/png": "[encoded data removed]"
          },
          "metadata": {
            "needs_background": "light"
          }
        },
        {
          "output_type": "stream",
          "name": "stdout",
          "text": [
            "\n",
            "R SQUARED VALUE IS: 0.027081437009309983\n",
            "\n",
            "RMSE VALUE IS: 0.7467734142272006\n",
            "\n",
            "MEAN ABSOLUTE ERROR VALUE IS: 0.5828634108303575\n",
            "\n",
            "PREDICTED FUTURE VALUE OF GPA IS: 3.0180248270821197\n"
          ]
        }
      ]
    },
    {
      "cell_type": "markdown",
      "source": [
        "1.a.SLR_Steps"
      ],
      "metadata": {
        "id": "TqTgdRb61LYj"
      }
    },
    {
      "cell_type": "code",
      "source": [
        "# get the libraries\n",
        "import numpy as np\n",
        "import matplotlib.pyplot as plt\n",
        "from sklearn.metrics import *\n",
        "import pandas as pd\n",
        "import re\n",
        "from math import *\n",
        "\n",
        "# get the dataset\n",
        "dataset = pd.read_csv('data.csv')\n",
        "X = dataset[[\"Steps\"]]\n",
        "y = dataset[[\"GPA\"]]\n",
        "\n",
        "#x = X.tolist()\n",
        "#y = Y.tolist()\n",
        "\n",
        "from sklearn.preprocessing import StandardScaler\n",
        "sc_X = StandardScaler()\n",
        "sc_y = StandardScaler()\n",
        "X = sc_X.fit_transform(X)\n",
        "y = sc_y.fit_transform(y)\n",
        "\n",
        "from sklearn.svm import SVR\n",
        "regressor = SVR(kernel = 'rbf')\n",
        "regressor.fit(X, y)\n",
        "\n",
        "value1 = [[6.5]]\n",
        "y_pred1 = regressor.predict(value1)\n",
        "value2 = y_pred1.reshape(-1,1)\n",
        "y_pred = sc_y.inverse_transform(value2) \n",
        "\n",
        "pred = regressor.predict(X)\n",
        "\n",
        "\n",
        "print(f\"\\nR SQUARED VALUE IS: {format(regressor.score(X, y),'.3f')}\\n\")\n",
        "\n",
        "from sklearn.model_selection import train_test_split\n",
        "X_train, X_test, y_train, y_test = train_test_split(X, y, test_size = 0.2, random_state = 0)\n",
        "\n",
        "# 3.R SQUARED\n",
        "\n",
        "from sklearn.svm import SVR\n",
        "regressor = SVR(kernel = 'rbf')\n",
        "regressor.fit(X_train, y_train)\n",
        "print(f\"\\nR SQUARED VALUE_train IS: {format(regressor.score(X_train, y_train),'.3f')}\\n\")\n",
        "print(f\"\\nR SQUARED VALUE3_test IS: {format(regressor.score(X_test, y_test),'.3f')}\\n\")\n",
        "\n",
        "print(f\"\\nRMSE VALUE IS: {format(sqrt(mean_squared_error(y, pred)),'.3f')}\\n\")\n",
        "\n",
        "print(f\"\\nMEAN ABSOLUTE ERROR VALUE IS: {format(mean_absolute_error(y, pred),'.3f')}\\n\")\n",
        "\n",
        "X_grid = np.arange(min(X), max(X), 0.01) #this step required because data is feature scaled.\n",
        "X_grid = X_grid.reshape((len(X_grid), 1))\n",
        "plt.scatter(X, y, color = 'red')\n",
        "plt.plot(X_grid, regressor.predict(X_grid), color = 'blue')\n",
        "plt.title('SVR')\n",
        "plt.xlabel('Steps')\n",
        "plt.ylabel('GPA')\n",
        "plt.show()"
      ],
      "metadata": {
        "id": "dY2ZEr0E1OBp"
      },
      "execution_count": null,
      "outputs": []
    },
    {
      "cell_type": "markdown",
      "source": [
        "1.a.SLR_STEPS"
      ],
      "metadata": {
        "id": "sGrtqSxhucFT"
      }
    },
    {
      "cell_type": "code",
      "source": [
        "import numpy as np\n",
        "import matplotlib.pyplot as plt\n",
        "import pandas as pd\n",
        "\n",
        "dataset = pd.read_csv('data.csv')\n",
        "x = dataset[\"Steps\"]\n",
        "y = dataset[\"GPA\"]\n",
        "\n",
        "from sklearn.model_selection import train_test_split\n",
        "X_train, X_test, y_train, y_test = train_test_split(X, y, test_size = 0.2, random_state = 0)\n",
        "\n",
        "#print(dataset.head())\n",
        "\n",
        "def linear_regression(X, y):     \n",
        "    N = len(X)\n",
        "    X_mean = X.mean()\n",
        "    y_mean = y.mean()\n",
        "    \n",
        "    B1_num = ((X - X_mean) * (y - y_mean)).sum()\n",
        "    B1_den = ((X - X_mean)**2).sum()\n",
        "    B1 = B1_num / B1_den\n",
        "    \n",
        "    B0 = (y_mean - (B1*X_mean))\n",
        "    B2 = format(B0,'.2f')\n",
        "    reg_line = 'y = {} + {}X'.format(B2, format(B1, '.4f'))\n",
        "    \n",
        "    return (B2, B1, reg_line)\n",
        "  \n",
        "def corr_coef(X, y):\n",
        "    N = len(X)\n",
        "    \n",
        "    num = (N * (X*y).sum()) - (X.sum() * y.sum())\n",
        "    den = np.sqrt((N * (X**2).sum() - X.sum()**2) * (N * (y**2).sum() - y.sum()**2))\n",
        "    R = num / den\n",
        "    return R\n",
        "  \n",
        "B2, B1, reg_line = linear_regression(X, y)\n",
        "print('\\nRegression Line: ', reg_line)\n",
        "R = round(corr_coef(X, y),2)\n",
        "#print('\\nCorrelation Coef.: ', R)\n",
        "R2 = round((R**2),3)\n",
        "print('\\n\"R2_Score & Goodness of Fit\": ', R2)"
      ],
      "metadata": {
        "colab": {
          "base_uri": "https://localhost:8080/",
          "height": 380
        },
        "id": "1c9PisPnufkR",
        "outputId": "11a27c51-d938-495b-8361-7678810537d8"
      },
      "execution_count": null,
      "outputs": [
        {
          "output_type": "error",
          "ename": "ValueError",
          "evalue": "ignored",
          "traceback": [
            "\u001b[0;31m---------------------------------------------------------------------------\u001b[0m",
            "\u001b[0;31mValueError\u001b[0m                                Traceback (most recent call last)",
            "\u001b[0;32m<ipython-input-56-314d9d922442>\u001b[0m in \u001b[0;36m<module>\u001b[0;34m()\u001b[0m\n\u001b[1;32m     35\u001b[0m     \u001b[0;32mreturn\u001b[0m \u001b[0mR\u001b[0m\u001b[0;34m\u001b[0m\u001b[0;34m\u001b[0m\u001b[0m\n\u001b[1;32m     36\u001b[0m \u001b[0;34m\u001b[0m\u001b[0m\n\u001b[0;32m---> 37\u001b[0;31m \u001b[0mB2\u001b[0m\u001b[0;34m,\u001b[0m \u001b[0mB1\u001b[0m\u001b[0;34m,\u001b[0m \u001b[0mreg_line\u001b[0m \u001b[0;34m=\u001b[0m \u001b[0mlinear_regression\u001b[0m\u001b[0;34m(\u001b[0m\u001b[0mX\u001b[0m\u001b[0;34m,\u001b[0m \u001b[0my\u001b[0m\u001b[0;34m)\u001b[0m\u001b[0;34m\u001b[0m\u001b[0;34m\u001b[0m\u001b[0m\n\u001b[0m\u001b[1;32m     38\u001b[0m \u001b[0mprint\u001b[0m\u001b[0;34m(\u001b[0m\u001b[0;34m'\\nRegression Line: '\u001b[0m\u001b[0;34m,\u001b[0m \u001b[0mreg_line\u001b[0m\u001b[0;34m)\u001b[0m\u001b[0;34m\u001b[0m\u001b[0;34m\u001b[0m\u001b[0m\n\u001b[1;32m     39\u001b[0m \u001b[0mR\u001b[0m \u001b[0;34m=\u001b[0m \u001b[0mround\u001b[0m\u001b[0;34m(\u001b[0m\u001b[0mcorr_coef\u001b[0m\u001b[0;34m(\u001b[0m\u001b[0mX\u001b[0m\u001b[0;34m,\u001b[0m \u001b[0my\u001b[0m\u001b[0;34m)\u001b[0m\u001b[0;34m,\u001b[0m\u001b[0;36m2\u001b[0m\u001b[0;34m)\u001b[0m\u001b[0;34m\u001b[0m\u001b[0;34m\u001b[0m\u001b[0m\n",
            "\u001b[0;32m<ipython-input-56-314d9d922442>\u001b[0m in \u001b[0;36mlinear_regression\u001b[0;34m(X, y)\u001b[0m\n\u001b[1;32m     17\u001b[0m     \u001b[0my_mean\u001b[0m \u001b[0;34m=\u001b[0m \u001b[0my\u001b[0m\u001b[0;34m.\u001b[0m\u001b[0mmean\u001b[0m\u001b[0;34m(\u001b[0m\u001b[0;34m)\u001b[0m\u001b[0;34m\u001b[0m\u001b[0;34m\u001b[0m\u001b[0m\n\u001b[1;32m     18\u001b[0m \u001b[0;34m\u001b[0m\u001b[0m\n\u001b[0;32m---> 19\u001b[0;31m     \u001b[0mB1_num\u001b[0m \u001b[0;34m=\u001b[0m \u001b[0;34m(\u001b[0m\u001b[0;34m(\u001b[0m\u001b[0mX\u001b[0m \u001b[0;34m-\u001b[0m \u001b[0mX_mean\u001b[0m\u001b[0;34m)\u001b[0m \u001b[0;34m*\u001b[0m \u001b[0;34m(\u001b[0m\u001b[0my\u001b[0m \u001b[0;34m-\u001b[0m \u001b[0my_mean\u001b[0m\u001b[0;34m)\u001b[0m\u001b[0;34m)\u001b[0m\u001b[0;34m.\u001b[0m\u001b[0msum\u001b[0m\u001b[0;34m(\u001b[0m\u001b[0;34m)\u001b[0m\u001b[0;34m\u001b[0m\u001b[0;34m\u001b[0m\u001b[0m\n\u001b[0m\u001b[1;32m     20\u001b[0m     \u001b[0mB1_den\u001b[0m \u001b[0;34m=\u001b[0m \u001b[0;34m(\u001b[0m\u001b[0;34m(\u001b[0m\u001b[0mX\u001b[0m \u001b[0;34m-\u001b[0m \u001b[0mX_mean\u001b[0m\u001b[0;34m)\u001b[0m\u001b[0;34m**\u001b[0m\u001b[0;36m2\u001b[0m\u001b[0;34m)\u001b[0m\u001b[0;34m.\u001b[0m\u001b[0msum\u001b[0m\u001b[0;34m(\u001b[0m\u001b[0;34m)\u001b[0m\u001b[0;34m\u001b[0m\u001b[0;34m\u001b[0m\u001b[0m\n\u001b[1;32m     21\u001b[0m     \u001b[0mB1\u001b[0m \u001b[0;34m=\u001b[0m \u001b[0mB1_num\u001b[0m \u001b[0;34m/\u001b[0m \u001b[0mB1_den\u001b[0m\u001b[0;34m\u001b[0m\u001b[0;34m\u001b[0m\u001b[0m\n",
            "\u001b[0;32m/usr/local/lib/python3.7/dist-packages/pandas/core/generic.py\u001b[0m in \u001b[0;36m__array_ufunc__\u001b[0;34m(self, ufunc, method, *inputs, **kwargs)\u001b[0m\n\u001b[1;32m   2030\u001b[0m         \u001b[0mself\u001b[0m\u001b[0;34m,\u001b[0m \u001b[0mufunc\u001b[0m\u001b[0;34m:\u001b[0m \u001b[0mnp\u001b[0m\u001b[0;34m.\u001b[0m\u001b[0mufunc\u001b[0m\u001b[0;34m,\u001b[0m \u001b[0mmethod\u001b[0m\u001b[0;34m:\u001b[0m \u001b[0mstr\u001b[0m\u001b[0;34m,\u001b[0m \u001b[0;34m*\u001b[0m\u001b[0minputs\u001b[0m\u001b[0;34m:\u001b[0m \u001b[0mAny\u001b[0m\u001b[0;34m,\u001b[0m \u001b[0;34m**\u001b[0m\u001b[0mkwargs\u001b[0m\u001b[0;34m:\u001b[0m \u001b[0mAny\u001b[0m\u001b[0;34m\u001b[0m\u001b[0;34m\u001b[0m\u001b[0m\n\u001b[1;32m   2031\u001b[0m     ):\n\u001b[0;32m-> 2032\u001b[0;31m         \u001b[0;32mreturn\u001b[0m \u001b[0marraylike\u001b[0m\u001b[0;34m.\u001b[0m\u001b[0marray_ufunc\u001b[0m\u001b[0;34m(\u001b[0m\u001b[0mself\u001b[0m\u001b[0;34m,\u001b[0m \u001b[0mufunc\u001b[0m\u001b[0;34m,\u001b[0m \u001b[0mmethod\u001b[0m\u001b[0;34m,\u001b[0m \u001b[0;34m*\u001b[0m\u001b[0minputs\u001b[0m\u001b[0;34m,\u001b[0m \u001b[0;34m**\u001b[0m\u001b[0mkwargs\u001b[0m\u001b[0;34m)\u001b[0m\u001b[0;34m\u001b[0m\u001b[0;34m\u001b[0m\u001b[0m\n\u001b[0m\u001b[1;32m   2033\u001b[0m \u001b[0;34m\u001b[0m\u001b[0m\n\u001b[1;32m   2034\u001b[0m     \u001b[0;31m# ideally we would define this to avoid the getattr checks, but\u001b[0m\u001b[0;34m\u001b[0m\u001b[0;34m\u001b[0m\u001b[0;34m\u001b[0m\u001b[0m\n",
            "\u001b[0;32m/usr/local/lib/python3.7/dist-packages/pandas/core/arraylike.py\u001b[0m in \u001b[0;36marray_ufunc\u001b[0;34m(self, ufunc, method, *inputs, **kwargs)\u001b[0m\n\u001b[1;32m    251\u001b[0m \u001b[0;34m\u001b[0m\u001b[0m\n\u001b[1;32m    252\u001b[0m     \u001b[0;31m# for binary ops, use our custom dunder methods\u001b[0m\u001b[0;34m\u001b[0m\u001b[0;34m\u001b[0m\u001b[0;34m\u001b[0m\u001b[0m\n\u001b[0;32m--> 253\u001b[0;31m     \u001b[0mresult\u001b[0m \u001b[0;34m=\u001b[0m \u001b[0mmaybe_dispatch_ufunc_to_dunder_op\u001b[0m\u001b[0;34m(\u001b[0m\u001b[0mself\u001b[0m\u001b[0;34m,\u001b[0m \u001b[0mufunc\u001b[0m\u001b[0;34m,\u001b[0m \u001b[0mmethod\u001b[0m\u001b[0;34m,\u001b[0m \u001b[0;34m*\u001b[0m\u001b[0minputs\u001b[0m\u001b[0;34m,\u001b[0m \u001b[0;34m**\u001b[0m\u001b[0mkwargs\u001b[0m\u001b[0;34m)\u001b[0m\u001b[0;34m\u001b[0m\u001b[0;34m\u001b[0m\u001b[0m\n\u001b[0m\u001b[1;32m    254\u001b[0m     \u001b[0;32mif\u001b[0m \u001b[0mresult\u001b[0m \u001b[0;32mis\u001b[0m \u001b[0;32mnot\u001b[0m \u001b[0mNotImplemented\u001b[0m\u001b[0;34m:\u001b[0m\u001b[0;34m\u001b[0m\u001b[0;34m\u001b[0m\u001b[0m\n\u001b[1;32m    255\u001b[0m         \u001b[0;32mreturn\u001b[0m \u001b[0mresult\u001b[0m\u001b[0;34m\u001b[0m\u001b[0;34m\u001b[0m\u001b[0m\n",
            "\u001b[0;32m/usr/local/lib/python3.7/dist-packages/pandas/_libs/ops_dispatch.pyx\u001b[0m in \u001b[0;36mpandas._libs.ops_dispatch.maybe_dispatch_ufunc_to_dunder_op\u001b[0;34m()\u001b[0m\n",
            "\u001b[0;32m/usr/local/lib/python3.7/dist-packages/pandas/core/ops/common.py\u001b[0m in \u001b[0;36mnew_method\u001b[0;34m(self, other)\u001b[0m\n\u001b[1;32m     67\u001b[0m         \u001b[0mother\u001b[0m \u001b[0;34m=\u001b[0m \u001b[0mitem_from_zerodim\u001b[0m\u001b[0;34m(\u001b[0m\u001b[0mother\u001b[0m\u001b[0;34m)\u001b[0m\u001b[0;34m\u001b[0m\u001b[0;34m\u001b[0m\u001b[0m\n\u001b[1;32m     68\u001b[0m \u001b[0;34m\u001b[0m\u001b[0m\n\u001b[0;32m---> 69\u001b[0;31m         \u001b[0;32mreturn\u001b[0m \u001b[0mmethod\u001b[0m\u001b[0;34m(\u001b[0m\u001b[0mself\u001b[0m\u001b[0;34m,\u001b[0m \u001b[0mother\u001b[0m\u001b[0;34m)\u001b[0m\u001b[0;34m\u001b[0m\u001b[0;34m\u001b[0m\u001b[0m\n\u001b[0m\u001b[1;32m     70\u001b[0m \u001b[0;34m\u001b[0m\u001b[0m\n\u001b[1;32m     71\u001b[0m     \u001b[0;32mreturn\u001b[0m \u001b[0mnew_method\u001b[0m\u001b[0;34m\u001b[0m\u001b[0;34m\u001b[0m\u001b[0m\n",
            "\u001b[0;32m/usr/local/lib/python3.7/dist-packages/pandas/core/arraylike.py\u001b[0m in \u001b[0;36m__rmul__\u001b[0;34m(self, other)\u001b[0m\n\u001b[1;32m    110\u001b[0m     \u001b[0;34m@\u001b[0m\u001b[0munpack_zerodim_and_defer\u001b[0m\u001b[0;34m(\u001b[0m\u001b[0;34m\"__rmul__\"\u001b[0m\u001b[0;34m)\u001b[0m\u001b[0;34m\u001b[0m\u001b[0;34m\u001b[0m\u001b[0m\n\u001b[1;32m    111\u001b[0m     \u001b[0;32mdef\u001b[0m \u001b[0m__rmul__\u001b[0m\u001b[0;34m(\u001b[0m\u001b[0mself\u001b[0m\u001b[0;34m,\u001b[0m \u001b[0mother\u001b[0m\u001b[0;34m)\u001b[0m\u001b[0;34m:\u001b[0m\u001b[0;34m\u001b[0m\u001b[0;34m\u001b[0m\u001b[0m\n\u001b[0;32m--> 112\u001b[0;31m         \u001b[0;32mreturn\u001b[0m \u001b[0mself\u001b[0m\u001b[0;34m.\u001b[0m\u001b[0m_arith_method\u001b[0m\u001b[0;34m(\u001b[0m\u001b[0mother\u001b[0m\u001b[0;34m,\u001b[0m \u001b[0mroperator\u001b[0m\u001b[0;34m.\u001b[0m\u001b[0mrmul\u001b[0m\u001b[0;34m)\u001b[0m\u001b[0;34m\u001b[0m\u001b[0;34m\u001b[0m\u001b[0m\n\u001b[0m\u001b[1;32m    113\u001b[0m \u001b[0;34m\u001b[0m\u001b[0m\n\u001b[1;32m    114\u001b[0m     \u001b[0;34m@\u001b[0m\u001b[0munpack_zerodim_and_defer\u001b[0m\u001b[0;34m(\u001b[0m\u001b[0;34m\"__truediv__\"\u001b[0m\u001b[0;34m)\u001b[0m\u001b[0;34m\u001b[0m\u001b[0;34m\u001b[0m\u001b[0m\n",
            "\u001b[0;32m/usr/local/lib/python3.7/dist-packages/pandas/core/series.py\u001b[0m in \u001b[0;36m_arith_method\u001b[0;34m(self, other, op)\u001b[0m\n\u001b[1;32m   5526\u001b[0m             \u001b[0mresult\u001b[0m \u001b[0;34m=\u001b[0m \u001b[0mops\u001b[0m\u001b[0;34m.\u001b[0m\u001b[0marithmetic_op\u001b[0m\u001b[0;34m(\u001b[0m\u001b[0mlvalues\u001b[0m\u001b[0;34m,\u001b[0m \u001b[0mrvalues\u001b[0m\u001b[0;34m,\u001b[0m \u001b[0mop\u001b[0m\u001b[0;34m)\u001b[0m\u001b[0;34m\u001b[0m\u001b[0;34m\u001b[0m\u001b[0m\n\u001b[1;32m   5527\u001b[0m \u001b[0;34m\u001b[0m\u001b[0m\n\u001b[0;32m-> 5528\u001b[0;31m         \u001b[0;32mreturn\u001b[0m \u001b[0mself\u001b[0m\u001b[0;34m.\u001b[0m\u001b[0m_construct_result\u001b[0m\u001b[0;34m(\u001b[0m\u001b[0mresult\u001b[0m\u001b[0;34m,\u001b[0m \u001b[0mname\u001b[0m\u001b[0;34m=\u001b[0m\u001b[0mres_name\u001b[0m\u001b[0;34m)\u001b[0m\u001b[0;34m\u001b[0m\u001b[0;34m\u001b[0m\u001b[0m\n\u001b[0m\u001b[1;32m   5529\u001b[0m \u001b[0;34m\u001b[0m\u001b[0m\n\u001b[1;32m   5530\u001b[0m \u001b[0;34m\u001b[0m\u001b[0m\n",
            "\u001b[0;32m/usr/local/lib/python3.7/dist-packages/pandas/core/series.py\u001b[0m in \u001b[0;36m_construct_result\u001b[0;34m(self, result, name)\u001b[0m\n\u001b[1;32m   2943\u001b[0m         \u001b[0;31m# We do not pass dtype to ensure that the Series constructor\u001b[0m\u001b[0;34m\u001b[0m\u001b[0;34m\u001b[0m\u001b[0;34m\u001b[0m\u001b[0m\n\u001b[1;32m   2944\u001b[0m         \u001b[0;31m#  does inference in the case where `result` has object-dtype.\u001b[0m\u001b[0;34m\u001b[0m\u001b[0;34m\u001b[0m\u001b[0;34m\u001b[0m\u001b[0m\n\u001b[0;32m-> 2945\u001b[0;31m         \u001b[0mout\u001b[0m \u001b[0;34m=\u001b[0m \u001b[0mself\u001b[0m\u001b[0;34m.\u001b[0m\u001b[0m_constructor\u001b[0m\u001b[0;34m(\u001b[0m\u001b[0mresult\u001b[0m\u001b[0;34m,\u001b[0m \u001b[0mindex\u001b[0m\u001b[0;34m=\u001b[0m\u001b[0mself\u001b[0m\u001b[0;34m.\u001b[0m\u001b[0mindex\u001b[0m\u001b[0;34m)\u001b[0m\u001b[0;34m\u001b[0m\u001b[0;34m\u001b[0m\u001b[0m\n\u001b[0m\u001b[1;32m   2946\u001b[0m         \u001b[0mout\u001b[0m \u001b[0;34m=\u001b[0m \u001b[0mout\u001b[0m\u001b[0;34m.\u001b[0m\u001b[0m__finalize__\u001b[0m\u001b[0;34m(\u001b[0m\u001b[0mself\u001b[0m\u001b[0;34m)\u001b[0m\u001b[0;34m\u001b[0m\u001b[0;34m\u001b[0m\u001b[0m\n\u001b[1;32m   2947\u001b[0m \u001b[0;34m\u001b[0m\u001b[0m\n",
            "\u001b[0;32m/usr/local/lib/python3.7/dist-packages/pandas/core/series.py\u001b[0m in \u001b[0;36m__init__\u001b[0;34m(self, data, index, dtype, name, copy, fastpath)\u001b[0m\n\u001b[1;32m    437\u001b[0m                     \u001b[0mdata\u001b[0m \u001b[0;34m=\u001b[0m \u001b[0mdata\u001b[0m\u001b[0;34m.\u001b[0m\u001b[0mcopy\u001b[0m\u001b[0;34m(\u001b[0m\u001b[0;34m)\u001b[0m\u001b[0;34m\u001b[0m\u001b[0;34m\u001b[0m\u001b[0m\n\u001b[1;32m    438\u001b[0m             \u001b[0;32melse\u001b[0m\u001b[0;34m:\u001b[0m\u001b[0;34m\u001b[0m\u001b[0;34m\u001b[0m\u001b[0m\n\u001b[0;32m--> 439\u001b[0;31m                 \u001b[0mdata\u001b[0m \u001b[0;34m=\u001b[0m \u001b[0msanitize_array\u001b[0m\u001b[0;34m(\u001b[0m\u001b[0mdata\u001b[0m\u001b[0;34m,\u001b[0m \u001b[0mindex\u001b[0m\u001b[0;34m,\u001b[0m \u001b[0mdtype\u001b[0m\u001b[0;34m,\u001b[0m \u001b[0mcopy\u001b[0m\u001b[0;34m)\u001b[0m\u001b[0;34m\u001b[0m\u001b[0;34m\u001b[0m\u001b[0m\n\u001b[0m\u001b[1;32m    440\u001b[0m \u001b[0;34m\u001b[0m\u001b[0m\n\u001b[1;32m    441\u001b[0m                 \u001b[0mmanager\u001b[0m \u001b[0;34m=\u001b[0m \u001b[0mget_option\u001b[0m\u001b[0;34m(\u001b[0m\u001b[0;34m\"mode.data_manager\"\u001b[0m\u001b[0;34m)\u001b[0m\u001b[0;34m\u001b[0m\u001b[0;34m\u001b[0m\u001b[0m\n",
            "\u001b[0;32m/usr/local/lib/python3.7/dist-packages/pandas/core/construction.py\u001b[0m in \u001b[0;36msanitize_array\u001b[0;34m(data, index, dtype, copy, raise_cast_failure, allow_2d)\u001b[0m\n\u001b[1;32m    574\u001b[0m                 \u001b[0msubarr\u001b[0m \u001b[0;34m=\u001b[0m \u001b[0mmaybe_infer_to_datetimelike\u001b[0m\u001b[0;34m(\u001b[0m\u001b[0msubarr\u001b[0m\u001b[0;34m)\u001b[0m\u001b[0;34m\u001b[0m\u001b[0;34m\u001b[0m\u001b[0m\n\u001b[1;32m    575\u001b[0m \u001b[0;34m\u001b[0m\u001b[0m\n\u001b[0;32m--> 576\u001b[0;31m     \u001b[0msubarr\u001b[0m \u001b[0;34m=\u001b[0m \u001b[0m_sanitize_ndim\u001b[0m\u001b[0;34m(\u001b[0m\u001b[0msubarr\u001b[0m\u001b[0;34m,\u001b[0m \u001b[0mdata\u001b[0m\u001b[0;34m,\u001b[0m \u001b[0mdtype\u001b[0m\u001b[0;34m,\u001b[0m \u001b[0mindex\u001b[0m\u001b[0;34m,\u001b[0m \u001b[0mallow_2d\u001b[0m\u001b[0;34m=\u001b[0m\u001b[0mallow_2d\u001b[0m\u001b[0;34m)\u001b[0m\u001b[0;34m\u001b[0m\u001b[0;34m\u001b[0m\u001b[0m\n\u001b[0m\u001b[1;32m    577\u001b[0m \u001b[0;34m\u001b[0m\u001b[0m\n\u001b[1;32m    578\u001b[0m     \u001b[0;32mif\u001b[0m \u001b[0misinstance\u001b[0m\u001b[0;34m(\u001b[0m\u001b[0msubarr\u001b[0m\u001b[0;34m,\u001b[0m \u001b[0mnp\u001b[0m\u001b[0;34m.\u001b[0m\u001b[0mndarray\u001b[0m\u001b[0;34m)\u001b[0m\u001b[0;34m:\u001b[0m\u001b[0;34m\u001b[0m\u001b[0;34m\u001b[0m\u001b[0m\n",
            "\u001b[0;32m/usr/local/lib/python3.7/dist-packages/pandas/core/construction.py\u001b[0m in \u001b[0;36m_sanitize_ndim\u001b[0;34m(result, data, dtype, index, allow_2d)\u001b[0m\n\u001b[1;32m    625\u001b[0m             \u001b[0;32mif\u001b[0m \u001b[0mallow_2d\u001b[0m\u001b[0;34m:\u001b[0m\u001b[0;34m\u001b[0m\u001b[0;34m\u001b[0m\u001b[0m\n\u001b[1;32m    626\u001b[0m                 \u001b[0;32mreturn\u001b[0m \u001b[0mresult\u001b[0m\u001b[0;34m\u001b[0m\u001b[0;34m\u001b[0m\u001b[0m\n\u001b[0;32m--> 627\u001b[0;31m             \u001b[0;32mraise\u001b[0m \u001b[0mValueError\u001b[0m\u001b[0;34m(\u001b[0m\u001b[0;34m\"Data must be 1-dimensional\"\u001b[0m\u001b[0;34m)\u001b[0m\u001b[0;34m\u001b[0m\u001b[0;34m\u001b[0m\u001b[0m\n\u001b[0m\u001b[1;32m    628\u001b[0m         \u001b[0;32mif\u001b[0m \u001b[0mis_object_dtype\u001b[0m\u001b[0;34m(\u001b[0m\u001b[0mdtype\u001b[0m\u001b[0;34m)\u001b[0m \u001b[0;32mand\u001b[0m \u001b[0misinstance\u001b[0m\u001b[0;34m(\u001b[0m\u001b[0mdtype\u001b[0m\u001b[0;34m,\u001b[0m \u001b[0mExtensionDtype\u001b[0m\u001b[0;34m)\u001b[0m\u001b[0;34m:\u001b[0m\u001b[0;34m\u001b[0m\u001b[0;34m\u001b[0m\u001b[0m\n\u001b[1;32m    629\u001b[0m             \u001b[0;31m# i.e. PandasDtype(\"O\")\u001b[0m\u001b[0;34m\u001b[0m\u001b[0;34m\u001b[0m\u001b[0;34m\u001b[0m\u001b[0m\n",
            "\u001b[0;31mValueError\u001b[0m: Data must be 1-dimensional"
          ]
        }
      ]
    },
    {
      "cell_type": "markdown",
      "source": [
        "1.b.SLR_Peak"
      ],
      "metadata": {
        "id": "FgSA4tSzQ8SF"
      }
    },
    {
      "cell_type": "code",
      "source": [
        "import numpy as np\n",
        "import matplotlib.pyplot as plt\n",
        "import pandas as pd\n",
        "\n",
        "dataset = pd.read_csv('data.csv')\n",
        "X = dataset[\"Peak\"]\n",
        "y = dataset[\"GPA\"]\n",
        "\n",
        "from sklearn.model_selection import train_test_split\n",
        "X_train, X_test, y_train, y_test = train_test_split(X, y, test_size = 0.2, random_state = 0)\n",
        "\n",
        "#print(dataset.head())\n",
        "\n",
        "def linear_regression(X, y):     \n",
        "    N = len(X)\n",
        "    X_mean = X.mean()\n",
        "    y_mean = y.mean()\n",
        "    \n",
        "    B1_num = ((X - X_mean) * (y - y_mean)).sum()\n",
        "    B1_den = ((X - X_mean)**2).sum()\n",
        "    B1 = B1_num / B1_den\n",
        "    \n",
        "    B0 = (y_mean - (B1*X_mean))\n",
        "    B2 = format(B0,'.2f')\n",
        "    reg_line = 'y = {} + {}X'.format(B2, format(B1, '.4f'))\n",
        "    \n",
        "    return (B2, B1, reg_line)\n",
        "  \n",
        "def corr_coef(X, y):\n",
        "    N = len(X)\n",
        "    \n",
        "    num = (N * (X*y).sum()) - (X.sum() * y.sum())\n",
        "    den = np.sqrt((N * (X**2).sum() - X.sum()**2) * (N * (y**2).sum() - y.sum()**2))\n",
        "    R = num / den\n",
        "    return R\n",
        "  \n",
        "B2, B1, reg_line = linear_regression(X, y)\n",
        "print('\\nRegression Line: ', reg_line)\n",
        "R = round(corr_coef(X, y),2)\n",
        "#print('\\nCorrelation Coef.: ', R)\n",
        "R2 = format((R**2),\".4f\")\n",
        "print('\\n\"Goodness of Fit (R^2) is\": ', R2)"
      ],
      "metadata": {
        "colab": {
          "base_uri": "https://localhost:8080/"
        },
        "id": "dZNSYJs6DU6s",
        "outputId": "8736254c-5ece-4117-ff68-bf3f9d20a91a"
      },
      "execution_count": null,
      "outputs": [
        {
          "output_type": "stream",
          "name": "stdout",
          "text": [
            "\n",
            "Regression Line:  y = 3.19 + -0.0006X\n",
            "\n",
            "\"Goodness of Fit (R^2) is\":  0.0001\n"
          ]
        }
      ]
    },
    {
      "cell_type": "markdown",
      "source": [
        "1.c.SLR_Cardio"
      ],
      "metadata": {
        "id": "z670_pwFTbrP"
      }
    },
    {
      "cell_type": "code",
      "source": [
        "import numpy as np\n",
        "import matplotlib.pyplot as plt\n",
        "import pandas as pd\n",
        "\n",
        "dataset = pd.read_csv('data.csv')\n",
        "X = dataset[\"Cardio\"]\n",
        "y = dataset[\"GPA\"]\n",
        "\n",
        "from sklearn.model_selection import train_test_split\n",
        "X_train, X_test, y_train, y_test = train_test_split(X, y, test_size = 0.2, random_state = 0)\n",
        "\n",
        "#print(dataset.head())\n",
        "\n",
        "def linear_regression(X, y):     \n",
        "    N = len(X)\n",
        "    X_mean = X.mean()\n",
        "    y_mean = y.mean()\n",
        "    \n",
        "    B1_num = ((X - X_mean) * (y - y_mean)).sum()\n",
        "    B1_den = ((X - X_mean)**2).sum()\n",
        "    B1 = B1_num / B1_den\n",
        "    \n",
        "    B0 = (y_mean - (B1*X_mean))\n",
        "    B2 = format(B0,'.2f')\n",
        "    reg_line = 'y = {} + {}X'.format(B2, format(B1, '.4f'))\n",
        "    \n",
        "    return (B2, B1, reg_line)\n",
        "  \n",
        "def corr_coef(X, y):\n",
        "    N = len(X)\n",
        "    \n",
        "    num = (N * (X*y).sum()) - (X.sum() * y.sum())\n",
        "    den = np.sqrt((N * (X**2).sum() - X.sum()**2) * (N * (y**2).sum() - y.sum()**2))\n",
        "    R = num / den\n",
        "    return R\n",
        "  \n",
        "B2, B1, reg_line = linear_regression(X, y)\n",
        "print('\\nRegression Line: ', reg_line)\n",
        "R = round(corr_coef(X, y),2)\n",
        "#print('\\nCorrelation Coef.: ', R)\n",
        "R2 = format((R**2),\".4f\")\n",
        "print('\\n\"Goodness of Fit\": ', R2)"
      ],
      "metadata": {
        "colab": {
          "base_uri": "https://localhost:8080/"
        },
        "id": "hK3cSdOmTq3Z",
        "outputId": "6e38dac2-67cf-47ce-eb06-6af9e44ec86a"
      },
      "execution_count": null,
      "outputs": [
        {
          "output_type": "stream",
          "name": "stdout",
          "text": [
            "\n",
            "Regression Line:  y = 3.16 + 0.0032X\n",
            "\n",
            "\"Goodness of Fit\":  0.0049\n"
          ]
        }
      ]
    },
    {
      "cell_type": "markdown",
      "source": [
        "1.d.SLR_FatBurn"
      ],
      "metadata": {
        "id": "wELLZb5JUWEr"
      }
    },
    {
      "cell_type": "code",
      "source": [
        "import numpy as np\n",
        "import matplotlib.pyplot as plt\n",
        "import pandas as pd\n",
        "\n",
        "dataset = pd.read_csv('data.csv')\n",
        "X = dataset[\"FatBurn\"]\n",
        "y = dataset[\"GPA\"]\n",
        "\n",
        "from sklearn.model_selection import train_test_split\n",
        "X_train, X_test, y_train, y_test = train_test_split(X, y, test_size = 0.2, random_state = 0)\n",
        "\n",
        "#print(dataset.head())\n",
        "\n",
        "def linear_regression(X, y):     \n",
        "    N = len(X)\n",
        "    X_mean = X.mean()\n",
        "    y_mean = y.mean()\n",
        "    \n",
        "    B1_num = ((X - X_mean) * (y - y_mean)).sum()\n",
        "    B1_den = ((X - X_mean)**2).sum()\n",
        "    B1 = B1_num / B1_den\n",
        "    \n",
        "    B0 = (y_mean - (B1*X_mean))\n",
        "    B2 = format(B0,'.2f')\n",
        "    reg_line = 'y = {} + {}X'.format(B2, format(B1, '.4f'))\n",
        "    \n",
        "    return (B2, B1, reg_line)\n",
        "  \n",
        "def corr_coef(X, y):\n",
        "    N = len(X)\n",
        "    \n",
        "    num = (N * (X*y).sum()) - (X.sum() * y.sum())\n",
        "    den = np.sqrt((N * (X**2).sum() - X.sum()**2) * (N * (y**2).sum() - y.sum()**2))\n",
        "    R = num / den\n",
        "    return R\n",
        "  \n",
        "B2, B1, reg_line = linear_regression(X, y)\n",
        "print('\\nRegression Line: ', reg_line)\n",
        "R = round(corr_coef(X, y),2)\n",
        "#print('\\nCorrelation Coef.: ', R)\n",
        "R2 = format((R**2),\".4f\")\n",
        "print('\\n\"Goodness of Fit\": ', R2)"
      ],
      "metadata": {
        "colab": {
          "base_uri": "https://localhost:8080/"
        },
        "id": "Wy-8fuuqUbZJ",
        "outputId": "5b764330-67d5-4468-d3fd-a02a7b55d7cd"
      },
      "execution_count": null,
      "outputs": [
        {
          "output_type": "stream",
          "name": "stdout",
          "text": [
            "\n",
            "Regression Line:  y = 3.01 + 0.0012X\n",
            "\n",
            "\"Goodness of Fit\":  0.0225\n"
          ]
        }
      ]
    },
    {
      "cell_type": "markdown",
      "source": [
        "1.e.SLR_Mode"
      ],
      "metadata": {
        "id": "LRcXkmBFUt5g"
      }
    },
    {
      "cell_type": "code",
      "source": [
        "import numpy as np\n",
        "import matplotlib.pyplot as plt\n",
        "import pandas as pd\n",
        "\n",
        "dataset = pd.read_csv('data.csv')\n",
        "X = dataset[\"Mode\"]\n",
        "y = dataset[\"GPA\"]\n",
        "\n",
        "from sklearn.model_selection import train_test_split\n",
        "X_train, X_test, y_train, y_test = train_test_split(X, y, test_size = 0.2, random_state = 0)\n",
        "\n",
        "#print(dataset.head())\n",
        "\n",
        "def linear_regression(X, y):     \n",
        "    N = len(X)\n",
        "    X_mean = X.mean()\n",
        "    y_mean = y.mean()\n",
        "    \n",
        "    B1_num = ((X - X_mean) * (y - y_mean)).sum()\n",
        "    B1_den = ((X - X_mean)**2).sum()\n",
        "    B1 = B1_num / B1_den\n",
        "    \n",
        "    B0 = (y_mean - (B1*X_mean))\n",
        "    B2 = format(B0,'.2f')\n",
        "    reg_line = 'y = {} + {}X'.format(B2, format(B1, '.4f'))\n",
        "    \n",
        "    return (B2, B1, reg_line)\n",
        "  \n",
        "def corr_coef(X, y):\n",
        "    N = len(X)\n",
        "    \n",
        "    num = (N * (X*y).sum()) - (X.sum() * y.sum())\n",
        "    den = np.sqrt((N * (X**2).sum() - X.sum()**2) * (N * (y**2).sum() - y.sum()**2))\n",
        "    R = num / den\n",
        "    return R\n",
        "  \n",
        "B2, B1, reg_line = linear_regression(X, y)\n",
        "print('\\nRegression Line: ', reg_line)\n",
        "R = round(corr_coef(X, y),2)\n",
        "#print('\\nCorrelation Coef.: ', R)\n",
        "R2 = format((R**2),\".4f\")\n",
        "print('\\n\"Goodness of Fit\": ', R2)"
      ],
      "metadata": {
        "colab": {
          "base_uri": "https://localhost:8080/"
        },
        "id": "EnxcSgPhUzqO",
        "outputId": "1cae7282-de4d-4c85-b08f-089df53eb71a"
      },
      "execution_count": null,
      "outputs": [
        {
          "output_type": "stream",
          "name": "stdout",
          "text": [
            "\n",
            "Regression Line:  y = 2.98 + 0.2465X\n",
            "\n",
            "\"Goodness of Fit\":  0.0121\n"
          ]
        }
      ]
    },
    {
      "cell_type": "markdown",
      "source": [
        "1.f.SLR_Minutes"
      ],
      "metadata": {
        "id": "5hX1T5lvVKPN"
      }
    },
    {
      "cell_type": "code",
      "source": [
        "import numpy as np\n",
        "import matplotlib.pyplot as plt\n",
        "import pandas as pd\n",
        "\n",
        "dataset = pd.read_csv('data.csv')\n",
        "X = dataset[\"Minutes\"]\n",
        "y = dataset[\"GPA\"]\n",
        "\n",
        "from sklearn.model_selection import train_test_split\n",
        "X_train, X_test, y_train, y_test = train_test_split(X, y, test_size = 0.2, random_state = 0)\n",
        "\n",
        "#print(dataset.head())\n",
        "\n",
        "def linear_regression(X, y):     \n",
        "    N = len(X)\n",
        "    X_mean = X.mean()\n",
        "    y_mean = y.mean()\n",
        "    \n",
        "    B1_num = ((X - X_mean) * (y - y_mean)).sum()\n",
        "    B1_den = ((X - X_mean)**2).sum()\n",
        "    B1 = B1_num / B1_den\n",
        "    \n",
        "    B0 = (y_mean - (B1*X_mean))\n",
        "    B2 = format(B0,'.2f')\n",
        "    reg_line = 'y = {} + {}X'.format(B2, format(B1, '.4f'))\n",
        "    \n",
        "    return (B2, B1, reg_line)\n",
        "  \n",
        "def corr_coef(X, y):\n",
        "    N = len(X)\n",
        "    \n",
        "    num = (N * (X*y).sum()) - (X.sum() * y.sum())\n",
        "    den = np.sqrt((N * (X**2).sum() - X.sum()**2) * (N * (y**2).sum() - y.sum()**2))\n",
        "    R = num / den\n",
        "    return R\n",
        "  \n",
        "B2, B1, reg_line = linear_regression(X, y)\n",
        "print('\\nRegression Line: ', reg_line)\n",
        "R = round(corr_coef(X, y),2)\n",
        "#print('\\nCorrelation Coef.: ', R)\n",
        "R2 = format((R**2),\".4f\")\n",
        "print('\\n\"Goodness of Fit\": ', R2)"
      ],
      "metadata": {
        "colab": {
          "base_uri": "https://localhost:8080/"
        },
        "id": "T33QhsWRVNJc",
        "outputId": "d271c666-070c-4616-fc8d-d96e55a62b6c"
      },
      "execution_count": null,
      "outputs": [
        {
          "output_type": "stream",
          "name": "stdout",
          "text": [
            "\n",
            "Regression Line:  y = 3.54 + -0.0350X\n",
            "\n",
            "\"Goodness of Fit\":  0.0225\n"
          ]
        }
      ]
    },
    {
      "cell_type": "markdown",
      "source": [
        "1.g.SLR_Gender"
      ],
      "metadata": {
        "id": "HMczVOYYXMfy"
      }
    },
    {
      "cell_type": "code",
      "source": [
        "import numpy as np\n",
        "import matplotlib.pyplot as plt\n",
        "import pandas as pd\n",
        "\n",
        "dataset = pd.read_csv('data.csv')\n",
        "X = dataset[\"Gender\"]\n",
        "y = dataset[\"GPA\"]\n",
        "\n",
        "from sklearn.model_selection import train_test_split\n",
        "X_train, X_test, y_train, y_test = train_test_split(X, y, test_size = 0.2, random_state = 0)\n",
        "\n",
        "#print(dataset.head())\n",
        "\n",
        "def linear_regression(X, y):     \n",
        "    N = len(X)\n",
        "    X_mean = X.mean()\n",
        "    y_mean = y.mean()\n",
        "    \n",
        "    B1_num = ((X - X_mean) * (y - y_mean)).sum()\n",
        "    B1_den = ((X - X_mean)**2).sum()\n",
        "    B1 = B1_num / B1_den\n",
        "    \n",
        "    B0 = (y_mean - (B1*X_mean))\n",
        "    B2 = format(B0,'.2f')\n",
        "    reg_line = 'y = {} + {}X'.format(B2, format(B1, '.4f'))\n",
        "    \n",
        "    return (B2, B1, reg_line)\n",
        "  \n",
        "def corr_coef(X, y):\n",
        "    N = len(X)\n",
        "    \n",
        "    num = (N * (X*y).sum()) - (X.sum() * y.sum())\n",
        "    den = np.sqrt((N * (X**2).sum() - X.sum()**2) * (N * (y**2).sum() - y.sum()**2))\n",
        "    R = num / den\n",
        "    return R\n",
        "  \n",
        "B2, B1, reg_line = linear_regression(X, y)\n",
        "print('\\nRegression Line: ', reg_line)\n",
        "R = round(corr_coef(X, y),2)\n",
        "#print('\\nCorrelation Coef.: ', R)\n",
        "R2 = format((R**2),\".4f\")\n",
        "print('\\n\"Goodness of Fit\": ', R2)"
      ],
      "metadata": {
        "colab": {
          "base_uri": "https://localhost:8080/"
        },
        "id": "WkbW910pXQCt",
        "outputId": "6056f9dd-5544-4047-d2b8-a7a192027e5f"
      },
      "execution_count": null,
      "outputs": [
        {
          "output_type": "stream",
          "name": "stdout",
          "text": [
            "\n",
            "Regression Line:  y = 3.05 + 0.2240X\n",
            "\n",
            "\"Goodness of Fit\":  0.0225\n"
          ]
        }
      ]
    },
    {
      "cell_type": "markdown",
      "source": [
        "1.h.SLR_Age"
      ],
      "metadata": {
        "id": "IjK7w7ozXdL-"
      }
    },
    {
      "cell_type": "code",
      "source": [
        "import numpy as np\n",
        "import matplotlib.pyplot as plt\n",
        "import pandas as pd\n",
        "\n",
        "dataset = pd.read_csv('data.csv')\n",
        "X = dataset[\"Age\"]\n",
        "y = dataset[\"GPA\"]\n",
        "\n",
        "from sklearn.model_selection import train_test_split\n",
        "X_train, X_test, y_train, y_test = train_test_split(X, y, test_size = 0.2, random_state = 0)\n",
        "\n",
        "#print(dataset.head())\n",
        "\n",
        "def linear_regression(X, y):     \n",
        "    N = len(X)\n",
        "    X_mean = X.mean()\n",
        "    y_mean = y.mean()\n",
        "    \n",
        "    B1_num = ((X - X_mean) * (y - y_mean)).sum()\n",
        "    B1_den = ((X - X_mean)**2).sum()\n",
        "    B1 = B1_num / B1_den\n",
        "    \n",
        "    B0 = (y_mean - (B1*X_mean))\n",
        "    B2 = format(B0,'.2f')\n",
        "    reg_line = 'y = {} + {}X'.format(B2, format(B1, '.4f'))\n",
        "    \n",
        "    return (B2, B1, reg_line)\n",
        "  \n",
        "def corr_coef(X, y):\n",
        "    N = len(X)\n",
        "    \n",
        "    num = (N * (X*y).sum()) - (X.sum() * y.sum())\n",
        "    den = np.sqrt((N * (X**2).sum() - X.sum()**2) * (N * (y**2).sum() - y.sum()**2))\n",
        "    R = num / den\n",
        "    return R\n",
        "  \n",
        "B2, B1, reg_line = linear_regression(X, y)\n",
        "print('\\nRegression Line: ', reg_line)\n",
        "R = round(corr_coef(X, y),2)\n",
        "#print('\\nCorrelation Coef.: ', R)\n",
        "R2 = format((R**2),\".4f\")\n",
        "print('\\n\"Goodness of Fit\": ', R2)"
      ],
      "metadata": {
        "colab": {
          "base_uri": "https://localhost:8080/"
        },
        "id": "Hllm57RIXhLS",
        "outputId": "77496a0a-618a-4454-94cf-8dfa69e5b36c"
      },
      "execution_count": null,
      "outputs": [
        {
          "output_type": "stream",
          "name": "stdout",
          "text": [
            "\n",
            "Regression Line:  y = 3.31 + -0.0064X\n",
            "\n",
            "\"Goodness of Fit\":  0.0001\n"
          ]
        }
      ]
    },
    {
      "cell_type": "markdown",
      "source": [
        "1.i.SLR_Life Score"
      ],
      "metadata": {
        "id": "zuLDkcMAXp-2"
      }
    },
    {
      "cell_type": "code",
      "source": [
        "import numpy as np\n",
        "import matplotlib.pyplot as plt\n",
        "import pandas as pd\n",
        "\n",
        "dataset = pd.read_csv('data.csv')\n",
        "X = dataset[\"Life Score\"]\n",
        "y = dataset[\"GPA\"]\n",
        "\n",
        "from sklearn.model_selection import train_test_split\n",
        "X_train, X_test, y_train, y_test = train_test_split(X, y, test_size = 0.2, random_state = 0)\n",
        "\n",
        "#print(dataset.head())\n",
        "\n",
        "def linear_regression(X, y):     \n",
        "    N = len(X)\n",
        "    X_mean = X.mean()\n",
        "    y_mean = y.mean()\n",
        "    \n",
        "    B1_num = ((X - X_mean) * (y - y_mean)).sum()\n",
        "    B1_den = ((X - X_mean)**2).sum()\n",
        "    B1 = B1_num / B1_den\n",
        "    \n",
        "    B0 = (y_mean - (B1*X_mean))\n",
        "    B2 = format(B0,'.2f')\n",
        "    reg_line = 'y = {} + {}X'.format(B2, format(B1, '.4f'))\n",
        "    \n",
        "    return (B2, B1, reg_line)\n",
        "  \n",
        "def corr_coef(X, y):\n",
        "    N = len(X)\n",
        "    \n",
        "    num = (N * (X*y).sum()) - (X.sum() * y.sum())\n",
        "    den = np.sqrt((N * (X**2).sum() - X.sum()**2) * (N * (y**2).sum() - y.sum()**2))\n",
        "    R = num / den\n",
        "    return R\n",
        "  \n",
        "B2, B1, reg_line = linear_regression(X, y)\n",
        "print('\\nRegression Line: ', reg_line)\n",
        "R = round(corr_coef(X, y),2)\n",
        "#print('\\nCorrelation Coef.: ', R)\n",
        "R2 = format((R**2),\".4f\")\n",
        "print('\\n\"Goodness of Fit\": ', R2)"
      ],
      "metadata": {
        "colab": {
          "base_uri": "https://localhost:8080/"
        },
        "id": "YPOB1YxOXyqJ",
        "outputId": "b45dc600-4c96-4502-8016-d6b54bdec9bf"
      },
      "execution_count": null,
      "outputs": [
        {
          "output_type": "stream",
          "name": "stdout",
          "text": [
            "\n",
            "Regression Line:  y = 3.51 + -0.0046X\n",
            "\n",
            "\"Goodness of Fit\":  0.0121\n"
          ]
        }
      ]
    }
  ]
}